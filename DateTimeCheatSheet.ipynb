{
 "cells": [
  {
   "cell_type": "code",
   "execution_count": null,
   "metadata": {},
   "outputs": [],
   "source": [
    "#Date time\n",
    "import datetime as dt\n",
    "\n",
    "#Today:\n",
    "dt.date.today()\n",
    "#A specific date\n",
    "dt.date(2018, 1, 31)\n",
    "#Now(UTC)\n",
    "dt.datetime.utcnow()\n",
    "dt.datetime(specific date)\n",
    "\n",
    "#Time delta\n",
    "#This finds a week ago\n",
    "dt.date.today() - dt.timedelta(days=7)\n",
    "\n",
    "#Parsing out different elements\n",
    "#This yields only the day\n",
    "dt.date.today().strftime(\"%d\")\n",
    "\n",
    "#In an sqlalchemy query:\n",
    "session.query(Dow.date).\\\n",
    "    filter(func.strftime(\"%d\", Dow.date)== 14).all()"
   ]
  }
 ],
 "metadata": {
  "kernelspec": {
   "display_name": "Python 3",
   "language": "python",
   "name": "python3"
  },
  "language_info": {
   "codemirror_mode": {
    "name": "ipython",
    "version": 3
   },
   "file_extension": ".py",
   "mimetype": "text/x-python",
   "name": "python",
   "nbconvert_exporter": "python",
   "pygments_lexer": "ipython3",
   "version": "3.6.7"
  }
 },
 "nbformat": 4,
 "nbformat_minor": 2
}
