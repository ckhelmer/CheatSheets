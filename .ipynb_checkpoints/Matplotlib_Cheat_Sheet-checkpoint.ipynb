{
 "cells": [
  {
   "cell_type": "code",
   "execution_count": null,
   "metadata": {},
   "outputs": [],
   "source": [
    "#Dependencies\n",
    "#Matplotlib (PyPlot)\n",
    "import matplotlib.pyplot as plt\n",
    "\n",
    "#Numpy\n",
    "import numpy as np"
   ]
  },
  {
   "cell_type": "code",
   "execution_count": null,
   "metadata": {},
   "outputs": [],
   "source": [
    "# Include this line to make plots interactive\n",
    "%matplotlib notebook"
   ]
  },
  {
   "cell_type": "code",
   "execution_count": null,
   "metadata": {},
   "outputs": [],
   "source": [
    "#Create an array of values with the numpy arange function\n",
    "#Usually we use this to generate an x-axis\n",
    "x_axis = np.arange(0, 5, 0.1)\n",
    "    #__________ = np.arange(____________, ____________, __________)\n",
    "    #(variable)            (lower bound) (upper bound)  (interval)\n",
    "\n",
    "#We can also substitute len in this function to get an x-axis\n",
    "x_axis = np.arange(len(users))\n",
    "    #__________ = np.arange(len(________________))\n",
    "    #(variable)                 (x-axis variable)"
   ]
  },
  {
   "cell_type": "code",
   "execution_count": null,
   "metadata": {},
   "outputs": [],
   "source": [
    "#Numpy math functions\n",
    "\n",
    "#Create an exponential series\n",
    "exponential = [np.exp(x) for x in x_axis]\n",
    "    #__________ = [np.exp(________) for _________ in _______]\n",
    "    #(variable)          (iterator)    (iterator)    (array)\n",
    "\n",
    "#Create a sin wave\n",
    "sin = np.sin(x_axis)\n",
    "    #__________ = np.sin(_________)\n",
    "    #(variable)          (x axis)\n",
    "    \n",
    "#Create a cos wave\n",
    "cos = np.cos(x_axis)\n",
    "    #__________ = np.cos(________)\n",
    "    #(variable)          (x axis)"
   ]
  },
  {
   "cell_type": "code",
   "execution_count": null,
   "metadata": {},
   "outputs": [],
   "source": [
    "#Plot graphs\n",
    "#Defaults to line\n",
    "plt.plot(x_axis, y_axis)\n",
    "    #plt.plot(________,________)\n",
    "    #         (x axis) (y axis)\n",
    "    \n",
    "#Bar Graphs\n",
    "plt.bar(x_axis, data, align = \"center\")\n",
    "    #plt.bar(__________, __________, align = \"_______\")\n",
    "    #        (x values)  (y values)           (center or edge)\n",
    "\n",
    "#Pie Chart    \n",
    "plt.pie(sizes, explode= explode, labels = labels, colors = colors, autopct = \"%1.1f%%\", shadow = True, startangle =140)\n",
    "    #plt.pie(_______, explode = _______, labels = ________, colors = ________, autopct = _______, shadow = ____, startangle = ________)\n",
    "    #       (numerical         (pull out         (labels:            (colors)         (formatting)        (T/F)              (int 1-359)\n",
    "    #       data: list)     largest pie piece)  string list)\n",
    "\n",
    "#Scatter plot\n",
    "plt.scatter(x_axis, data)\n",
    "    #plt.scatter(________, ________)\n",
    "    #            (x axis)  (y axis)"
   ]
  },
  {
   "cell_type": "code",
   "execution_count": null,
   "metadata": {},
   "outputs": [],
   "source": [
    "#Plotting graphs FROM PANDAS\n",
    "\n",
    "#Set an index to use it as the x-axis\n",
    "file_df = file_df.set_index(\"Column 1\")\n",
    "    #_________ = _________.set_index(\"_______\")\n",
    "    #(df name)   (df name)           (Column) \n",
    "\n",
    "    #Graph the file \n",
    "file_df.plot(kind = \"bar\", figsize = (20,3))\n",
    "    #_________.plot(kind = \"_______\", figsize = (___,___))\n",
    "    #(df name)          (type of graph)          (sizes)"
   ]
  },
  {
   "cell_type": "code",
   "execution_count": null,
   "metadata": {},
   "outputs": [],
   "source": [
    "#Create tick locations for x axis\n",
    "tick_locations = [value for value in x_axis]\n",
    "    #_______________ = [value for value in ______]\n",
    "    #(tick variable)                       (x-axis data)\n",
    "    plt.xticks(tick_locations, data, rotation = \"vertical\")    \n",
    "    #plt.xticks(___________,   ___________, rotation = ___________)\n",
    "    #         (tick variable) (y axis data)            (position)\n",
    "\n",
    "#Can set ticklabels with pandas\n",
    "file_df.set_xticklabels(file_df[\"Column 1\"], rotation = \"45\")\n",
    "    #_________.set_xticklabels(________[\"_______\"], rotation= _______)\n",
    "    #(df name)                (df name) (column)             (positon)\n",
    "\n",
    "#Set axises to be equal\n",
    "plt.axis(\"equal\")\n",
    "    #plt.axis(\"______\")\n",
    "    #         (can also hold \"square\", \"on/off\" to turn titles off, \"auto\", etc.)\n",
    "    \n",
    "#Can make a graph based off a python groupby so long as the series that results is run through a function (like count)\n",
    "chart = groupby.plot(kind = \"bar\")\n",
    "    #____________ = ________.plot(kind = \"______\")\n",
    "    #(chart name)   (grouby)              (type)"
   ]
  },
  {
   "cell_type": "code",
   "execution_count": null,
   "metadata": {},
   "outputs": [],
   "source": [
    "#Optional colors, line styles, etc.\n",
    "plt.plot(x, y, marker = \"o\", color = \"red\", linewidth = 1, linestyle = \"-\", label = \"cool\")\n",
    "    #plt.plot(_______, ______, marker = \"______\", color = \"______\", linewidth = _______, linestyle = \"_______\", label = \"_______\")\n",
    "    #        (x axis) (y axis)          (symbol)           (color)             (integer)         (stlye characters)      (label)\n",
    "\n",
    "#Squash columns/bars together    \n",
    "plt.tight_layout()\n",
    "\n",
    "#Types of styles\n",
    "marker = (shape)\n",
    "facecolors = (color of dot in scatter plot)\n",
    "edgecolors = (color of dot edge in scatter plot)\n",
    "s = x_axis (funny condition to make dots bigger as x values increase)\n",
    "alpha = (transparency, 0-1)\n",
    "color = (color)\n",
    "linewidth = (linewidth)\n",
    "linestyle = (linestyle)\n",
    "label = (labels lines on line graphs)"
   ]
  },
  {
   "cell_type": "code",
   "execution_count": null,
   "metadata": {},
   "outputs": [],
   "source": [
    "#Labels and titles\n",
    "\n",
    "#Chart title\n",
    "plt.title(\"Title\")\n",
    "    #plt.title(\"_________\")\n",
    "    #            (title)\n",
    "#x axis label\n",
    "plt.xlabel(\"X Axis\")\n",
    "    #plt.xlable(\"________\")\n",
    "    #            (x axis)\n",
    "    \n",
    "#y axis label\n",
    "plt.ylabel(\"Y Axis\")\n",
    "    #plt.ylabel(\"_______\")\n",
    "    #           (y axis)"
   ]
  },
  {
   "cell_type": "code",
   "execution_count": null,
   "metadata": {},
   "outputs": [],
   "source": [
    "#X and Y limits\n",
    "plt.xlim(0, 10)\n",
    "    #plt.xlim(____, _____)\n",
    "    #        (min)  (max)\n",
    "\n",
    "plt.ylim(0, 10)\n",
    "    #plt.ylim(____, _____)\n",
    "    #        (min)  (max)"
   ]
  },
  {
   "cell_type": "code",
   "execution_count": null,
   "metadata": {},
   "outputs": [],
   "source": [
    "#Put a grid on the plot\n",
    "plt.grid()"
   ]
  },
  {
   "cell_type": "code",
   "execution_count": null,
   "metadata": {},
   "outputs": [],
   "source": [
    "#Add a legend to a graph\n",
    "plt.legend(loc= \"lower right\")\n",
    "    #plt.legend(loc = __________)\n",
    "    #                 (location)\n",
    "plt.legend(handles=[farenheit, celcius], loc = \"best\")\n",
    "    #plt.legend(handles = [_________, ________], loc = \"_________\")\n",
    "    #                     (label 1)  (label 2)          (location)"
   ]
  },
  {
   "cell_type": "code",
   "execution_count": null,
   "metadata": {},
   "outputs": [],
   "source": [
    "#Show graphs\n",
    "plt.show()"
   ]
  },
  {
   "cell_type": "code",
   "execution_count": null,
   "metadata": {},
   "outputs": [],
   "source": [
    "#Graph a horizontal line\n",
    "plt.hlines(0, 0, 10, alpha=.25)\n",
    "    #plt.hlines(________,_______,_______, alpha = _____________)\n",
    "    #          (y value) (x min) (x max)         (transparency)\n",
    "    \n",
    "#Graph a vertical line\n",
    "plt.vlines(0, 0, 10, alpha =.25)\n",
    "     #plt.vlines(________,_______,_______, alpha = _____________)\n",
    "    #           (x value) (y min) (y max)         (transparency)\n",
    "    \n",
    "#Can pass colors and linestyles into this on colors = _______ and linestyles = _______    "
   ]
  },
  {
   "cell_type": "code",
   "execution_count": null,
   "metadata": {},
   "outputs": [],
   "source": [
    "#Stack barcharts on top of each other\n",
    "combined_data = data1.add(data2, fill_value = 0)\n",
    "    #__________ = __________.add(_________, fill_value = ___)\n",
    "    #(variable)   (series 1)    (series 2)               (?)"
   ]
  },
  {
   "cell_type": "code",
   "execution_count": null,
   "metadata": {},
   "outputs": [],
   "source": [
    "#Can use a loc to zoom in a graph\n",
    "file_df.loc[\"Condition 1, Condition 2\"].plot(label = \"Data 1\")\n",
    "    #___________.loc[\"___________,__________\"].plot(label = \"____________\")\n",
    "    # (df name)     (conditions to search on)                (legend name)"
   ]
  },
  {
   "cell_type": "code",
   "execution_count": null,
   "metadata": {},
   "outputs": [],
   "source": [
    "#Use .keys() to circle through an entire index\n",
    "series = file_df.keys()\n",
    "    #_________ = _________.keys()\n",
    "    #(variable)  (df name)"
   ]
  },
  {
   "cell_type": "code",
   "execution_count": null,
   "metadata": {},
   "outputs": [],
   "source": [
    "#Save images of charts\n",
    "#Can also use button on charts\n",
    "plt.savefig(\"../Images/file.png\")\n",
    "    #plt.savefig(\"__________\")\n",
    "    #             (file path)"
   ]
  }
 ],
 "metadata": {
  "kernelspec": {
   "display_name": "Python 3",
   "language": "python",
   "name": "python3"
  },
  "language_info": {
   "codemirror_mode": {
    "name": "ipython",
    "version": 3
   },
   "file_extension": ".py",
   "mimetype": "text/x-python",
   "name": "python",
   "nbconvert_exporter": "python",
   "pygments_lexer": "ipython3",
   "version": "3.7.1"
  }
 },
 "nbformat": 4,
 "nbformat_minor": 2
}
