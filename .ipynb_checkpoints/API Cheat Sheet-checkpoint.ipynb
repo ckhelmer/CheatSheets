{
 "cells": [
  {
   "cell_type": "code",
   "execution_count": null,
   "metadata": {},
   "outputs": [],
   "source": [
    "#Relevant dependencies\n",
    "import requests\n",
    "import json\n",
    "from pprint import pprint"
   ]
  },
  {
   "cell_type": "code",
   "execution_count": null,
   "metadata": {},
   "outputs": [],
   "source": [
    "#API keys are typically stored in other documents and imported as libraries to preserve security\n"
   ]
  },
  {
   "cell_type": "code",
   "execution_count": null,
   "metadata": {},
   "outputs": [],
   "source": [
    "#How to pull a api\n",
    "#Declare a url\n",
    "url = \"www.blah.com\"\n",
    "    #__________ = \"__________________\"\n",
    "    #(variable)      (api address)\n",
    "    \n",
    "#Check for a response\n",
    "print(requests.get(url))\n",
    "    #print(requests.get(________))\n",
    "    #                (url variable)\n",
    "    \n",
    "#Retrieve the data\n",
    "print(requests.get(url).json())\n",
    "    #print(requests.get(____).json())\n",
    "    #               (url variable)\n",
    "\n",
    "#Retrieving data with a string alteration\n",
    "data = requests.get(url + \"Blah\").json()\n",
    "    #__________ = requests.get(_________ + _________).json\n",
    "    #(variable)                (url)      (string or variable)"
   ]
  },
  {
   "cell_type": "code",
   "execution_count": null,
   "metadata": {},
   "outputs": [],
   "source": [
    "#How to pull a api\n",
    "#Declare a url\n",
    "url = \"www.blah.com\"\n",
    "    #__________ = \"__________________\"\n",
    "    #(variable)      (api address)\n",
    "    \n",
    "#Check for a response\n",
    "print(requests.get(url))\n",
    "    #print(requests.get(________))\n",
    "    #                (url variable)\n",
    "    \n",
    "#Retrieve the data\n",
    "print(requests.get(url).json())\n",
    "    #print(requests.get(____).json())\n",
    "    #               (url variable)\n",
    "    \n",
    "\n",
    "#Pretty printing\n",
    "response = requests.get(url).json()\n",
    "print(json.dumps(response, indent = 4, sort_keys = True))\n",
    "    #__________ = requests.get(_____). json()\n",
    "    #(variable)             (url variable)\n",
    "    #print(json.dumps(_________, indent = _____, sort_keys = _______))\n",
    "    #                 (variable)         (integer)          (boolean)\n",
    "    \n",
    "#Alternatively\n",
    "pprint(___________)\n",
    "    #pprint(__________)\n",
    "    #         (json)\n",
    "    "
   ]
  },
  {
   "cell_type": "code",
   "execution_count": null,
   "metadata": {},
   "outputs": [],
   "source": [
    "#Navigating the data\n",
    "\n",
    "#Collect a value according to a key\n",
    "value = data[\"key\"]\n",
    "    #____________ = __________[_________]\n",
    "    # (variable)       (json)    (key)\n",
    "    \n",
    "#Navigating down a level\n",
    "value = data[\"key\"][0]\n",
    "    #___________ = _________[________][__]\n",
    "    #(variable)     (json)    (key)   (index value: can only be a number if it's in a list, indicated by brackets [])"
   ]
  },
  {
   "cell_type": "code",
   "execution_count": null,
   "metadata": {},
   "outputs": [],
   "source": [
    "#Collecting multiple items of data\n",
    "\n",
    "#Initialize a list\n",
    "List = []\n",
    "    #__________ = []\n",
    "    #(variable)\n",
    "\n",
    "#Loop through the data\n",
    "for blah in blahblah[\"blah\"]:\n",
    "    stored = requests.get(blah).json()\n",
    "    name = stored[\"whee\"]\n",
    "    films.append(\"whee\")\n",
    "    \n",
    "    #for _________ in _________[_________]:\n",
    "        #(iterator)    (list)   (key)\n",
    "        #___________ = requests.get(_______).json()\n",
    "        #(variable1)               (iterator)\n",
    "        #___________ = __________[\"_________\"]\n",
    "        #(variable2)  (variable1)   (key)\n",
    "        #__________.append(_________)\n",
    "        # (list)          (variable2)"
   ]
  },
  {
   "cell_type": "code",
   "execution_count": 1,
   "metadata": {},
   "outputs": [
    {
     "ename": "SyntaxError",
     "evalue": "invalid syntax (<ipython-input-1-fd0911ab60f4>, line 5)",
     "output_type": "error",
     "traceback": [
      "\u001b[1;36m  File \u001b[1;32m\"<ipython-input-1-fd0911ab60f4>\"\u001b[1;36m, line \u001b[1;32m5\u001b[0m\n\u001b[1;33m    print(f\"Making request number: \" {x} \"for ID\")\u001b[0m\n\u001b[1;37m                                     ^\u001b[0m\n\u001b[1;31mSyntaxError\u001b[0m\u001b[1;31m:\u001b[0m invalid syntax\n"
     ]
    }
   ],
   "source": [
    "#Iterative requests\n",
    "#Or, making several requests with different urls through a loop\n",
    "for x in range(10):\n",
    "    #Prints a text that says it's making the request\n",
    "    print(f\"Making request number: \" {x} \"for ID\")\n",
    "    #Gets the response\n",
    "    response = requests.get(url + x)\n",
    "    #Appends the response to a list\n",
    "    response_json.append(response.json())\n",
    "        #for _______ in ______:\n",
    "            #print(________________________ + [_______])\n",
    "            #      (whatever text you want)   (iterator)\n",
    "            #_______________ = requests.get(_____ + _______)\n",
    "            #(temp variable)               (url)   (iterator)\n",
    "            #_______________.append(__________.json())\n",
    "            #(list variable)      (temp variable)"
   ]
  },
  {
   "cell_type": "code",
   "execution_count": null,
   "metadata": {},
   "outputs": [],
   "source": []
  }
 ],
 "metadata": {
  "kernelspec": {
   "display_name": "Python 3",
   "language": "python",
   "name": "python3"
  },
  "language_info": {
   "codemirror_mode": {
    "name": "ipython",
    "version": 3
   },
   "file_extension": ".py",
   "mimetype": "text/x-python",
   "name": "python",
   "nbconvert_exporter": "python",
   "pygments_lexer": "ipython3",
   "version": "3.7.1"
  }
 },
 "nbformat": 4,
 "nbformat_minor": 2
}
