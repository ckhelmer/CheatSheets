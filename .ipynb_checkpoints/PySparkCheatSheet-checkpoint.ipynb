{
 "cells": [
  {
   "cell_type": "code",
   "execution_count": null,
   "metadata": {},
   "outputs": [],
   "source": [
    "#To start a Spark Session:\n",
    "\n",
    "from pyspark.sql import SparkSession\n",
    "\n",
    "spark = SparkSession.builder.appName('nlp').getOrCreate()\n",
    "\n",
    "#To stop:\n",
    "\n",
    "spark.stop()"
   ]
  },
  {
   "cell_type": "code",
   "execution_count": null,
   "metadata": {},
   "outputs": [],
   "source": [
    "#Spark Dataframes\n",
    "\n",
    "#To create\n",
    "dataframe = spark.createDataFrame([\n",
    "    (0, 'Example 1'),\n",
    "    (1, 'Example 2'),\n",
    "    (2, 'Example 3')])\n",
    "\n",
    "#To display\n",
    "dataframe.show()"
   ]
  },
  {
   "cell_type": "code",
   "execution_count": null,
   "metadata": {},
   "outputs": [],
   "source": [
    "#Loading data\n",
    "from pyspark import SparkFiles\n",
    "\n",
    "url = 'blah.com'\n",
    "\n",
    "spark.sparkContext.addFile(url)\n",
    "\n",
    "df = spark.read_csv(SparkFiles.get('data.csv'), sep = ',', header = True)\n"
   ]
  },
  {
   "cell_type": "code",
   "execution_count": null,
   "metadata": {},
   "outputs": [],
   "source": [
    "#To tokenize words\n",
    "\n",
    "from pyspark.ml.feature import Tokenizer\n",
    "\n",
    "tokenizer = Tokenizer(inputCol = 'sentence', outputCol = 'words')\n",
    "\n",
    "tokenized = tokenizer.transform(dataframe)\n",
    "tokenized.show(truncate = False)"
   ]
  },
  {
   "cell_type": "code",
   "execution_count": null,
   "metadata": {},
   "outputs": [],
   "source": [
    "#To remove stop words\n",
    "from pyspark.ml.feature import StopWordsRemover\n",
    "\n",
    "remover = StopWordsRemover(inputCol = 'raw', outputCol = 'filtered')\n",
    "\n",
    "remover.transform(sentenceData).show(truncate = False)\n",
    "\n",
    "#To add words to remove, you pass a list\n",
    "\n",
    "stop_list = [\"blah\", \"whatever\", \"okay\"]\n",
    "\n",
    "remover = StopWordsRemover(inputCol = 'words', outputCol = 'filtered', stopWords = stop_list)"
   ]
  },
  {
   "cell_type": "code",
   "execution_count": null,
   "metadata": {},
   "outputs": [],
   "source": [
    "#Hashing\n",
    "\n",
    "from pyspark.ml.feature import HashingTF\n",
    "\n",
    "hashing = HashingTF(inputCol = 'tokens', outputCol = 'hashedValues', numFeatures = pow(2, 4))\n",
    "\n",
    "hashed_df = hashing.transform(df)"
   ]
  },
  {
   "cell_type": "code",
   "execution_count": null,
   "metadata": {},
   "outputs": [],
   "source": [
    "#IDF\n",
    "\n",
    "from pyspark.ml.feature import IDF\n",
    "\n",
    "idf = IDF(inputCol = 'hashedValues', outputCol = 'features')\n",
    "\n",
    "idfModel = idf.fit(hashed_df)\n",
    "\n",
    "rescaledData = idfModel.transform(hashed_df)"
   ]
  },
  {
   "cell_type": "code",
   "execution_count": null,
   "metadata": {},
   "outputs": [],
   "source": [
    "#User Defined functions in spark\n",
    "\n",
    "from pyspark.sql.function import col, udf\n",
    "from pyspark.sql.types import IntegerType\n",
    "\n",
    "def word_list_length(word_list):\n",
    "    return len(word_list)\n",
    "\n",
    "count_tokens = udf(word_list_length, IntegerType())\n",
    "\n",
    "#To put that all together with SQL\n",
    "tokenized.select('Column A', 'Column B').withColumn('New Column', count_tokens(col('words').show(truncate = False)))"
   ]
  },
  {
   "cell_type": "code",
   "execution_count": null,
   "metadata": {},
   "outputs": [],
   "source": []
  }
 ],
 "metadata": {
  "kernelspec": {
   "display_name": "Python 3",
   "language": "python",
   "name": "python3"
  },
  "language_info": {
   "codemirror_mode": {
    "name": "ipython",
    "version": 3
   },
   "file_extension": ".py",
   "mimetype": "text/x-python",
   "name": "python",
   "nbconvert_exporter": "python",
   "pygments_lexer": "ipython3",
   "version": "3.7.3"
  }
 },
 "nbformat": 4,
 "nbformat_minor": 2
}
