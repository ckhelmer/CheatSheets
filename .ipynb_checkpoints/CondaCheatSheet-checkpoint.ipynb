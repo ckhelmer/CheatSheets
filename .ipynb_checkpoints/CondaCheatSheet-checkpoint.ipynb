{
 "cells": [
  {
   "cell_type": "code",
   "execution_count": null,
   "metadata": {},
   "outputs": [],
   "source": [
    "#Check version of conda (in command line)\n",
    "\n",
    "conda - V"
   ]
  },
  {
   "cell_type": "code",
   "execution_count": null,
   "metadata": {},
   "outputs": [],
   "source": [
    "#Update conda\n",
    "\n",
    "conda update conda"
   ]
  },
  {
   "cell_type": "code",
   "execution_count": null,
   "metadata": {},
   "outputs": [],
   "source": [
    "#To list possible versions of python\n",
    "\n",
    "conda search \"^python$\""
   ]
  },
  {
   "cell_type": "code",
   "execution_count": null,
   "metadata": {},
   "outputs": [],
   "source": [
    "#To create a virtual enviroment (and install common packages from anaconda)\n",
    "\n",
    "conda create -n environment python=3.8.0 anaconda\n",
    "    #conda create -n ____________ python=__.__.__ anaconda\n",
    "    #             (environment name)   (python version)"
   ]
  },
  {
   "cell_type": "code",
   "execution_count": null,
   "metadata": {},
   "outputs": [],
   "source": [
    "#To remove a virtual environment\n",
    "\n",
    "conda remove -n enviroment -all\n",
    "    #conda remove -n _____________ -all\n",
    "    #               (environment name)"
   ]
  },
  {
   "cell_type": "code",
   "execution_count": null,
   "metadata": {},
   "outputs": [],
   "source": [
    "#To activate the virtual environment\n",
    "\n",
    "source activate environment\n",
    "    #source activate ____________\n",
    "    #               (environment name)"
   ]
  },
  {
   "cell_type": "code",
   "execution_count": null,
   "metadata": {},
   "outputs": [],
   "source": [
    "#To deactivate virtual enviornment\n",
    "\n",
    "source deactivate"
   ]
  },
  {
   "cell_type": "code",
   "execution_count": null,
   "metadata": {},
   "outputs": [],
   "source": [
    "#To install packages manually\n",
    "\n",
    "conda install -n environment package\n",
    "    #conda install -n _________  ___________\n",
    "    #                (env. name) (package name)"
   ]
  }
 ],
 "metadata": {
  "kernelspec": {
   "display_name": "Python 3",
   "language": "python",
   "name": "python3"
  },
  "language_info": {
   "codemirror_mode": {
    "name": "ipython",
    "version": 3
   },
   "file_extension": ".py",
   "mimetype": "text/x-python",
   "name": "python",
   "nbconvert_exporter": "python",
   "pygments_lexer": "ipython3",
   "version": "3.7.3"
  }
 },
 "nbformat": 4,
 "nbformat_minor": 2
}
