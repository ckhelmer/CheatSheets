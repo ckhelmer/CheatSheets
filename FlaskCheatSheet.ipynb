{
 "cells": [
  {
   "cell_type": "code",
   "execution_count": null,
   "metadata": {},
   "outputs": [],
   "source": [
    "#Flask\n",
    "#Flask enables you to write python for the web\n",
    "#We store it in a .py file rather than a Jupyter notebook"
   ]
  },
  {
   "cell_type": "code",
   "execution_count": null,
   "metadata": {},
   "outputs": [],
   "source": [
    "#library\n",
    "from flask import Flask"
   ]
  },
  {
   "cell_type": "code",
   "execution_count": null,
   "metadata": {},
   "outputs": [],
   "source": [
    "#Create the app (the file you are using)\n",
    "app = Flask(__name__)"
   ]
  },
  {
   "cell_type": "code",
   "execution_count": null,
   "metadata": {},
   "outputs": [],
   "source": [
    "#Define what to do when the user hits the index route (the home page)\n",
    "@app.route(\"/\")\n",
    "def home():\n",
    "    print(\"Whatever you want so long as you only expect to find it in the console\")\n",
    "    return(\"Public-facing web text\")\n",
    "\n"
   ]
  },
  {
   "cell_type": "code",
   "execution_count": null,
   "metadata": {},
   "outputs": [],
   "source": [
    "#This initializes the app-- it makes it run\n",
    "#It's found at the end of your code\n",
    "if __name__ == \"__main__\":\n",
    "    app.run(debug=True)"
   ]
  },
  {
   "cell_type": "code",
   "execution_count": null,
   "metadata": {},
   "outputs": [],
   "source": [
    "#To parse something to json format, use jsonify()\n",
    "return jsonify(dictionary)\n",
    "    #return jsonify(__________)\n",
    "    #               (the dictionary you want to appear in json)"
   ]
  },
  {
   "cell_type": "code",
   "execution_count": null,
   "metadata": {},
   "outputs": [],
   "source": [
    "#Variable paths \n",
    "#Urls entered by the user\n",
    "\n",
    "@app.route(\"/api.justice-league/and-so-on/<real_name>\")\n",
    "def justice_league_by_real_name(real_name)\n",
    "\n",
    "    canonicalized = real_name.replace(\" \", \"\".lower())\n",
    "    for character in justice_league_members:\n",
    "        search_term = character[\"real_name\"].replace(\" \", \"\").lower()\n",
    "            \n",
    "        if search_term == canonicalized:\n",
    "            return jsoify(character)\n",
    "        \n",
    "    return jsonify({\"error\": \"result not found\"})    \n"
   ]
  },
  {
   "cell_type": "code",
   "execution_count": null,
   "metadata": {},
   "outputs": [],
   "source": []
  }
 ],
 "metadata": {
  "kernelspec": {
   "display_name": "Python 3",
   "language": "python",
   "name": "python3"
  },
  "language_info": {
   "codemirror_mode": {
    "name": "ipython",
    "version": 3
   },
   "file_extension": ".py",
   "mimetype": "text/x-python",
   "name": "python",
   "nbconvert_exporter": "python",
   "pygments_lexer": "ipython3",
   "version": "3.7.1"
  }
 },
 "nbformat": 4,
 "nbformat_minor": 2
}
