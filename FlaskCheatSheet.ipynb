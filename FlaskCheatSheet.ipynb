{
 "cells": [
  {
   "cell_type": "code",
   "execution_count": null,
   "metadata": {},
   "outputs": [],
   "source": [
    "#Flask\n",
    "#Flask enables you to write python for the web\n",
    "#We store it in a .py file rather than a Jupyter notebook"
   ]
  },
  {
   "cell_type": "code",
   "execution_count": null,
   "metadata": {},
   "outputs": [],
   "source": [
    "#library\n",
    "from flask import Flask"
   ]
  },
  {
   "cell_type": "code",
   "execution_count": null,
   "metadata": {},
   "outputs": [],
   "source": [
    "#Create the app (the file you are using)\n",
    "app = Flask(__name__)"
   ]
  },
  {
   "cell_type": "code",
   "execution_count": null,
   "metadata": {},
   "outputs": [],
   "source": [
    "#Define what to do when the user hits the index route (the home page)\n",
    "@app.route(\"/\")\n",
    "def home():\n",
    "    print(\"Whatever you want so long as you only expect to find it in the console\")\n",
    "    return(\"Public-facing web text\")\n",
    "\n"
   ]
  },
  {
   "cell_type": "code",
   "execution_count": null,
   "metadata": {},
   "outputs": [],
   "source": [
    "#This initializes the app-- it makes it run\n",
    "#It's found at the end of your code\n",
    "if __name__ == \"__main__\":\n",
    "    app.run(debug=True)"
   ]
  },
  {
   "cell_type": "code",
   "execution_count": null,
   "metadata": {},
   "outputs": [],
   "source": [
    "#To parse something to json format, use jsonify()\n",
    "return jsonify(dictionary)\n",
    "    #return jsonify(__________)\n",
    "    #               (the dictionary you want to appear in json)"
   ]
  },
  {
   "cell_type": "code",
   "execution_count": null,
   "metadata": {},
   "outputs": [],
   "source": [
    "#Variable paths \n",
    "#Urls entered by the user\n",
    "\n",
    "@app.route(\"/api.justice-league/and-so-on/<real_name>\")\n",
    "def justice_league_by_real_name(real_name)\n",
    "\n",
    "    canonicalized = real_name.replace(\" \", \"\".lower())\n",
    "    for character in justice_league_members:\n",
    "        search_term = character[\"real_name\"].replace(\" \", \"\").lower()\n",
    "            \n",
    "        if search_term == canonicalized:\n",
    "            return jsonify(character)\n",
    "        \n",
    "    return jsonify({\"error\": \"result not found\"})    \n"
   ]
  },
  {
   "cell_type": "code",
   "execution_count": null,
   "metadata": {},
   "outputs": [],
   "source": [
    "#To serve html from another file\n",
    "#Note: this method relies upon having a folder called \"templates\" in the same folder as the script running flask\n",
    "#That then becomes the template for whatever you put in the text field (or variable)\n",
    "@app.route(\"/whatever\")\n",
    "def echo():\n",
    "    return render_template(\"index.html\", text = \"literally whatever\")\n",
    "\n",
    "#In html, the variables go in with double curly braces wherever you want them\n",
    "<h1> {{text}} <h1>\n",
    "\n",
    "#Doing a loop looks something like this:\n",
    "{% for name in list %}\n",
    "{{name}}\n",
    "{% endfor %}\n",
    "\n",
    "#To return a value in a dictionary, you call it like this in the html:\n",
    "{{dict.player_1}}\n",
    "    #{{_______________.____________}}\n",
    "    #(dictionary name)    (key)"
   ]
  },
  {
   "cell_type": "code",
   "execution_count": null,
   "metadata": {},
   "outputs": [],
   "source": [
    "#You can connect to pymongo in flask to serve data to the web\n",
    "\n",
    "conn = 'mongodb://localhost:27017'\n",
    "client = pymongo.MongoClient(conn)"
   ]
  },
  {
   "cell_type": "markdown",
   "metadata": {},
   "source": [
    "### Revision 12/23/19\n",
    "\n",
    "More sophisticated code, including separation of concerns."
   ]
  },
  {
   "cell_type": "code",
   "execution_count": null,
   "metadata": {},
   "outputs": [],
   "source": [
    "#Creating a package to run an application\n",
    "\n",
    "#1) Create a folder called app. Inside it, create an __init__.py file\n",
    "\n",
    "from flask import Flask\n",
    "\n",
    "app = Flask(__name__)\n",
    "\n",
    "from app import routes"
   ]
  },
  {
   "cell_type": "code",
   "execution_count": null,
   "metadata": {},
   "outputs": [],
   "source": [
    "#2) Create all routes in their own file within the app file\n",
    "\n",
    "from app import app\n",
    "\n",
    "@app.route('/')\n",
    "\n",
    "@app.route('/home')\n",
    "def home():\n",
    "    return \"Hello World!\""
   ]
  },
  {
   "cell_type": "code",
   "execution_count": null,
   "metadata": {},
   "outputs": [],
   "source": [
    "#3) Create a templates file in the app directory (app/templates). Your html files go in here."
   ]
  },
  {
   "cell_type": "code",
   "execution_count": null,
   "metadata": {},
   "outputs": [],
   "source": [
    "#Create the main application file at the top level\n",
    "\n",
    "from app import app"
   ]
  },
  {
   "cell_type": "code",
   "execution_count": null,
   "metadata": {},
   "outputs": [],
   "source": [
    "#To set flask as an environment variable in the console\n",
    "\n",
    "export FLASK_APP=flaskapp.py\n",
    "    #export FLASK_APP=______________\n",
    "    #                (main application file name)\n",
    "\n",
    "#To run the app\n",
    "flask run\n",
    "\n",
    "#To run a shell to input items directly into the database\n",
    "flask shell"
   ]
  },
  {
   "cell_type": "code",
   "execution_count": null,
   "metadata": {},
   "outputs": [],
   "source": [
    "#Returning render template with variables\n",
    "\n",
    "#Python\n",
    "@app.route('/index')\n",
    "def index():\n",
    "    dictionary = {'variable' : 'example'}\n",
    "    return render_template('index.html', title = 'Home', dictionary = dictionary)\n",
    "\n",
    "#HTML\n",
    "<html>\n",
    "    <head>\n",
    "        <title>{{ title }} - Website </title>\n",
    "        #Returns home in the title bar\n",
    "    </head>\n",
    "    <body>\n",
    "        <h1>Hello, {{dictionary.variable}}</h1>\n",
    "        #Returns example in body of the webpage\n",
    "    </body>\n",
    "</html>"
   ]
  },
  {
   "cell_type": "code",
   "execution_count": null,
   "metadata": {},
   "outputs": [],
   "source": [
    "#Control statements with Jinja2\n",
    "#Control statements are indicated in html with single curly braces {% ____ %}\n",
    "\n",
    "#Conditionals\n",
    "{% if variable %}\n",
    "\n",
    "{% else %}\n",
    "\n",
    "{% endif %}\n",
    "\n",
    "#Loops\n",
    "\n",
    "{% for post in posts %}\n",
    "<div><p> {{ post.author.username }} says:\n",
    "    <b>{{ post.body }}</b></p></div>\n",
    "{% endfor %}\n"
   ]
  },
  {
   "cell_type": "code",
   "execution_count": null,
   "metadata": {},
   "outputs": [],
   "source": [
    "#Template Inheritance\n",
    "#Flask allows you to create a base template for elements of a webpage that don't change (like a navbar)\n",
    "\n",
    "#Base.html uses block statements to declare where the new content will go\n",
    "{% block content %}{% endblock %}\n",
    "\n",
    "#The inheritor page now gets a special modifier at the top\n",
    "\n",
    "{% extends \"base.html\"%}\n",
    "\n",
    "{% block content %}\n",
    "WHATEVER YOU WANT IN HERE\n",
    "{% endblock %}"
   ]
  },
  {
   "cell_type": "code",
   "execution_count": null,
   "metadata": {},
   "outputs": [],
   "source": [
    "#Subtemplates with jinja2\n",
    "\n",
    "#A template stored in a separate html file can be added wherever it's necessary using {% include %}\n",
    "\n",
    "#In HTML:\n",
    "{% include '_post.html' %}"
   ]
  },
  {
   "cell_type": "code",
   "execution_count": null,
   "metadata": {},
   "outputs": [],
   "source": [
    "#Reusing templates\n",
    "\n",
    "#A different route and function may call an already used template\n",
    "\n",
    "@app.route('/duplicate')\n",
    "def duplicate():\n",
    "    return render_template('index.html', title=\"Different Title than Index.html\")\n",
    "\n",
    "#Use appropriate conditionals in the reused page to keep it from crashing\n",
    "{% if form %}\n",
    "...\n",
    "{% endif %}"
   ]
  },
  {
   "cell_type": "code",
   "execution_count": null,
   "metadata": {},
   "outputs": [],
   "source": [
    "#@before_request decorator\n",
    "\n",
    "#Registers the function to occur before the view function (should be at top of code)\n",
    "\n",
    "@app.before_request\n",
    "def before_request():\n",
    "    #[...]\n",
    "    "
   ]
  },
  {
   "cell_type": "code",
   "execution_count": 1,
   "metadata": {},
   "outputs": [],
   "source": [
    "#Pagination (native with flask_sqlalchemy)\n",
    "\n",
    "#Instead of querying with .all(), query with .paginate()\n",
    "\n",
    "post = user.posts.paginate(page, app.config['POSTS_PER_PAGE'], False)\n",
    "    #________.________.paginate(__________,   __________,    __________)\n",
    "    # (db variables)         (starting page) (items per page) (T: returns 404 when page out of index, else empty list)\n",
    "\n",
    "\n",
    "#1. Add the number of items per page in the config file\n",
    "class Config(object):\n",
    "    #...\n",
    "    POSTS_PER_PAGE = 10\n",
    "    \n",
    "#Add the pagination to urls within the application\n",
    "@app.route('/', methods = ['GET', 'POST'])\n",
    "def index():\n",
    "    page = request.args.get('page', 1, type=int)\n",
    "    \n",
    "#Add the .paginate() function (also on the routes page)\n",
    "    #[...]\n",
    "    posts = current_user.followed_posts().paginate(\n",
    "        page, app.config['POSTS_PER_PAGE'], False)\n",
    "    return render_template('index.html, posts=posts.items')"
   ]
  },
  {
   "cell_type": "code",
   "execution_count": null,
   "metadata": {},
   "outputs": [],
   "source": [
    "#Flask_WTF\n",
    "\n",
    "#Flask_wtf allows you to create templates for forms (inside website html)\n",
    "\n",
    "{% block content%}\n",
    "\n",
    "<form action =\"\" method=\"post\" novalidate>\n",
    "#action = the website to submit the form info to. An empty string indicates that it should be submitted to the current webpage.\n",
    "#novalidate = designates lack of client-side validation (aka this form uses server-side validation)\n",
    "\n",
    "{{form.hidden_tag()}}\n",
    "#protects from CSFF attacks. Uses the secret key defined in configuration files\n",
    "\n",
    "#To display a form label (inside html):\n",
    "{{ form.username.label }}\n",
    "    # {{ form.______________.label}}\n",
    "    #         (field name)\n",
    "\n",
    "#To display the form:\n",
    "{{ form.username(size = 32) }}\n",
    "    # {{ form._____________(size = ______)}}\n",
    "    #         (field name)       (size of form)\n",
    "    #                      (This is also how you attach css classes and ids)"
   ]
  },
  {
   "cell_type": "code",
   "execution_count": null,
   "metadata": {},
   "outputs": [],
   "source": [
    "#POST Requests\n",
    "#(GET requests are the default)\n",
    "@app.route('/whatever', methods = ['GET', 'POST'])"
   ]
  },
  {
   "cell_type": "markdown",
   "metadata": {},
   "source": [
    "### Blueprints\n",
    "\n",
    "Using blueprints allows you to separate modules within your code"
   ]
  },
  {
   "cell_type": "code",
   "execution_count": null,
   "metadata": {},
   "outputs": [],
   "source": [
    "#A blueprint looks like this\n",
    "\n",
    "app/\n",
    "    errors/             #Blueprint package\n",
    "        __init__.py     #Blueprint creation\n",
    "        handlers.py     #Blueprint handlers\n",
    "    templates/\n",
    "        errors/\n",
    "            404.html    #Error templates\n",
    "            500.html\n",
    "    __init__.py         #Blueprint registration"
   ]
  },
  {
   "cell_type": "code",
   "execution_count": null,
   "metadata": {},
   "outputs": [],
   "source": [
    "#Initializing the blueprint (in the file marked 'blueprint creation' above)\n",
    "\n",
    "from flask import Blueprint\n",
    "\n",
    "bp = Blueprint('errors', __name__)\n",
    "\n",
    "from app.errors import handlers"
   ]
  },
  {
   "cell_type": "code",
   "execution_count": null,
   "metadata": {},
   "outputs": [],
   "source": [
    "#Import into main application initialization like this...\n",
    "\n",
    "app = Flask(__name__)\n",
    "\n",
    "from app.errors import bp as errors_bp\n",
    "app.register_blueprint(errors_bp)\n",
    "\n",
    "#You can add a prefix to the route:\n",
    "\n",
    "from app.errors import bp as errors_bp\n",
    "app.register_blueprint(errors_pb, url_prefix='/auth')"
   ]
  },
  {
   "cell_type": "code",
   "execution_count": null,
   "metadata": {},
   "outputs": [],
   "source": [
    "#Defining routes in a blueprint\n",
    "\n",
    "@bp.route('/same-template-new-location')\n",
    "def whatever():\n",
    "    ...."
   ]
  },
  {
   "cell_type": "code",
   "execution_count": null,
   "metadata": {},
   "outputs": [],
   "source": [
    "#Url_for argument in a blueprint\n",
    "\n",
    "url_for(blueprint.whatever)\n",
    "    #url_for(_______________.___________)\n",
    "    #    (blueprint package)   (route)"
   ]
  },
  {
   "cell_type": "code",
   "execution_count": null,
   "metadata": {},
   "outputs": [],
   "source": [
    "#Elimination of global app variable (in init.py)"
   ]
  },
  {
   "cell_type": "code",
   "execution_count": null,
   "metadata": {},
   "outputs": [],
   "source": [
    "#1) Import all packages\n",
    "from flask import Flask\n",
    "from config import Config\n",
    "from flask_sqlalchemy import SQLAlchemy\n",
    "from flask_migrate import Migrate\n",
    "\n",
    "#2) Create an instance of the extensions you need\n",
    "\n",
    "db = SQLAlchemy()\n",
    "migrate = Migrate()\n",
    "\n",
    "#3)Initialize the app inside a function\n",
    "\n",
    "def create_app(config_class=Config):\n",
    "    app = Flask(__name__)\n",
    "    app.config.from_object(config_class)\n",
    "\n",
    "#4) Initialize the instances of the classes (binding them to the app)\n",
    "\n",
    "    db.init_app(app, db)\n",
    "    migrate.init_app(app)\n",
    "    \n",
    "#5) Return the app\n",
    "\n",
    "    return app"
   ]
  },
  {
   "cell_type": "code",
   "execution_count": null,
   "metadata": {},
   "outputs": [],
   "source": [
    "#current_app variable\n",
    "\n",
    "#Acts as a context variable, works like a global variable, but is only available during request handling\n",
    "\n",
    "from flask import current_app\n",
    "\n",
    "app.config #-->\n",
    "current_app.config\n",
    "\n",
    "#Threading workaround\n",
    "current_app._get_current_object()"
   ]
  },
  {
   "cell_type": "markdown",
   "metadata": {},
   "source": [
    "### Command Line Customization in Flask"
   ]
  },
  {
   "cell_type": "code",
   "execution_count": null,
   "metadata": {},
   "outputs": [],
   "source": [
    "#Inside a module within your flask app\n",
    "#Flask uses click to implement command line customizations\n",
    "\n",
    "#(app/cli.py)\n",
    "\n",
    "from app import app\n",
    "import os\n",
    "import click\n",
    "\n",
    "@app.cli.group()\n",
    "    def translate():\n",
    "        \"\"\"Translation and localization commands\"\"\"\n",
    "        \n",
    "@translate.command()\n",
    "def update ():\n",
    "    \"\"\"Update all languages\"\"\"\n",
    "    if os.system('pybabel extract -F babel.cfg -k _l -o messages.pot .'):\n",
    "        raise RuntimeError('extract comand failed')\n",
    "    if os.system('pybabel update -i messages.pot -d app/translations'):\n",
    "        raise RuntimeError('update command failed')\n",
    "    os.remove('messages.pot')\n",
    "\n",
    "@translate.command()\n",
    "@click.argument('lang')\n",
    "def init(lang):\n",
    "    \"\"\"Initialize a new language\"\"\"\n",
    "    if os.system('pybabel extract -F babel.cfg -k _l -o messages.pot .'):\n",
    "        raise RuntimeError('extract command failed')\n",
    "    if os.system('pybabel init -i messages.pot -d app/translations -l' + lang):\n",
    "        raise RuntimeError('init command failed')\n",
    "    os.remove('messages.pot')"
   ]
  },
  {
   "cell_type": "markdown",
   "metadata": {},
   "source": [
    "### Flask_WTF"
   ]
  },
  {
   "cell_type": "code",
   "execution_count": null,
   "metadata": {},
   "outputs": [],
   "source": [
    "#Form validation (#Flask WTF)\n",
    "\n",
    "#To validate all form submissions according to a class (can be defined in a forms.py file and imported)\n",
    "form.validate_on_submit()\n",
    "    #________.validate on submit()\n",
    "    #(Form Class)\n",
    "#form.validate returns either True or False\n",
    "\n",
    "#Example form class (dependencies: flask_wtf - FlaskForm; wtforms - StringField, PasswordField, BooleanField, SubmitField; wtforms.validators - DataRequired\n",
    "class LoginForm(FlaskForm)\n",
    "    username = StringField('Username', validators = [DataRequired()])\n",
    "    password = PasswordField('Password', validators=[DataRequired()])\n",
    "    remember_me = BooleanField('Remember Me')\n",
    "    submit = SubmitField('Sign In')\n",
    "    \n",
    "#To display errors in html:\n",
    "{% for error in form.username.errors %}\n",
    "#                (field label)\n",
    "    <span style:\"color: red;\">[{{ error }}]</span>\n",
    "{% endfor %}"
   ]
  },
  {
   "cell_type": "code",
   "execution_count": null,
   "metadata": {},
   "outputs": [],
   "source": [
    "#Flask_WTF has built in password and email vaildators\n",
    "\n",
    "import wtforms.validators import ValidationError, DataRequired, Email, EqualTo\n",
    "\n",
    "class RegistrationForm(FlaskForm):\n",
    "    ...\n",
    "    email = StringField('Email', validators = [DataRequired(), Email()])\n",
    "    password = PasswordField('Password', validators=[DataRequired()])\n",
    "    password2 = PasswordField('Repeat Password', validators = [DataRequired(), EqualTo('password')])\n",
    "    ...\n",
    "    "
   ]
  },
  {
   "cell_type": "code",
   "execution_count": null,
   "metadata": {},
   "outputs": [],
   "source": [
    "#Code to ensure unique users and unique email addresses within a registration form\n",
    "\n",
    "#methods that match the pattern validate_____________ are custom validators for WTForms\n",
    "class RegistrationForm(FlaskForm):\n",
    "    #...\n",
    "    def validate_username(self, username):\n",
    "        user = User.query.filter_by(username=username.data).first()\n",
    "        if user is not None:\n",
    "            raise ValidationError('Error, duplicate username')\n",
    "    def validate_email():\n",
    "        user = User.query.filter_by(email=email.data).first()\n",
    "        if user is not None:\n",
    "            raise ValidationError('Error, duplicate email')"
   ]
  },
  {
   "cell_type": "code",
   "execution_count": null,
   "metadata": {},
   "outputs": [],
   "source": [
    "#Flash function\n",
    "\n",
    "#In python:\n",
    "flash(\"I'm a message\".format(form.username.data())\n",
    "\n",
    "#In html\n",
    "      {% with messages = get_flashed_messages() %}\n",
    "          {% if messages %}\n",
    "      \n",
    "              {% for message in messages %}\n",
    "                  {{ message }}\n",
    "      \n",
    "              {% endfor %}\n",
    "          {% endif %}\n",
    "      {% endwith%}"
   ]
  },
  {
   "cell_type": "code",
   "execution_count": null,
   "metadata": {},
   "outputs": [],
   "source": [
    "#url mapping\n",
    "\n",
    "#In html:\n",
    "<a href=\"{{ url_for('index')}}\">Home</a>\n",
    "    #<a href=\"{{ url_for('__________')}}\">_________</a>\n",
    "    #                 (name of function (not route))\n",
    "\n",
    "#In python\n",
    "return redirect(url_for('index'))\n",
    "    #return redirect(url_for(\"___________\")\n",
    "    #                         (function name)"
   ]
  },
  {
   "cell_type": "code",
   "execution_count": null,
   "metadata": {},
   "outputs": [],
   "source": [
    "#Flask shell commands (for running database operations in the console)\n",
    "\n",
    "#To set up (in main microblog.py file):\n",
    "\n",
    "from app import app, db\n",
    "from app.models import User, Post\n",
    "\n",
    "@app.shell_context_processor\n",
    "def make_shell_context():\n",
    "    return {'db' : db, 'User' : User, 'Post' : Post}\n",
    "    #return {'________' : ________, '________' : _________}\n",
    "    #        (dictionary of text inputs matched to variables)"
   ]
  },
  {
   "cell_type": "markdown",
   "metadata": {},
   "source": [
    "### Flask-Migrate (based on alembic)"
   ]
  },
  {
   "cell_type": "code",
   "execution_count": null,
   "metadata": {},
   "outputs": [],
   "source": [
    "#Alembic maintains a migration repository to track changes to the database\n",
    "#The repository is essentially a bunch of sequentially ordered scripts\n",
    "\n",
    "#Create a migration repository in the console:\n",
    "#(flask environment variable must be already set [export FLASK_APP=____________.py])\n",
    "flask db init\n",
    "\n",
    "#To migrate the repository automatically\n",
    "flask db migrate\n",
    "#-to add a comment\n",
    "flask db migrate -m \"comments are cool\"\n",
    "\n",
    "#To actually change the database\n",
    "#Push new changes\n",
    "flask db upgrade\n",
    "#Remove new changes\n",
    "flask db downgrade"
   ]
  },
  {
   "cell_type": "markdown",
   "metadata": {},
   "source": [
    "## Werkzeug (password hasher)"
   ]
  },
  {
   "cell_type": "code",
   "execution_count": null,
   "metadata": {},
   "outputs": [],
   "source": [
    "from werkzeug.security import generate_password_hash, check_password_hash\n",
    "\n",
    "#To generate a password hash:\n",
    "hash = generate_password_hash('whatever')\n",
    "\n",
    "#To check whether the password and the hash match (Returns True or False)\n",
    "check_password_hash(hash, 'password')\n",
    "\n",
    "#####\n",
    "#Inside a webapp, this belongs in the same class where the password is defined as a method of the class\n",
    "\n",
    "class User(db.Model):\n",
    "    password_hash = db.Column(db.String(128))\n",
    "    \n",
    "    def set_password(self, password):\n",
    "        self.password_hash = generate_password_hash(password)\n",
    "        \n",
    "    def check_password(self, password):\n",
    "        return check_password_hash(self.password_hash, password)"
   ]
  },
  {
   "cell_type": "markdown",
   "metadata": {},
   "source": [
    "## Flask-Login"
   ]
  },
  {
   "cell_type": "code",
   "execution_count": null,
   "metadata": {},
   "outputs": [],
   "source": [
    "#has to be initialized after the application instance (in __init__.py):\n",
    "from flask_login import LoginManager\n",
    "\n",
    "app = Flask(__name__)\n",
    "login = LoginManager(app)\n",
    "\n",
    "#To implement generic login features:\n",
    "from flask_login import UserMixin\n",
    "\n",
    "class User(UserMixin, db.Model):\n",
    "    #[...]"
   ]
  },
  {
   "cell_type": "code",
   "execution_count": null,
   "metadata": {},
   "outputs": [],
   "source": [
    "#Configure a user-loader function to interact with the database of users\n",
    "from app import login\n",
    "\n",
    "@login.user_loader\n",
    "def load_user(id):\n",
    "    return User.query.get(int(id))"
   ]
  },
  {
   "cell_type": "code",
   "execution_count": null,
   "metadata": {},
   "outputs": [],
   "source": [
    "#Logging-in users\n",
    "from flask_login import current_user, login_user\n",
    "from app.models import User\n",
    "\n",
    "@app.route('/login', methods=['GET', 'POST'])\n",
    "def login():\n",
    "    #Redirect current users to index\n",
    "    if current_user.is_authenticated:\n",
    "        return redirect(url_for('index'))\n",
    "    #Already instantiated form class\n",
    "    form = LoginForm()\n",
    "    ##conditional statement comes from flask-wtf\n",
    "    if form.validate_on_submit():\n",
    "        #Query the database withe the form entry\n",
    "        user = User.query.filter_by(username=form.username.data).first()\n",
    "        #If the user's name or password is incorrect, return an error message \n",
    "        if user is None or not user.check_password(form.password.data):\n",
    "            flash('Invalid username or password')\n",
    "            return redirect(url_for('login'))\n",
    "        #login the user and return them to the homepage\n",
    "        return redirect(url_for_('index'))\n",
    "    return render_template('login.html')"
   ]
  },
  {
   "cell_type": "code",
   "execution_count": null,
   "metadata": {},
   "outputs": [],
   "source": [
    "#Logging out users\n",
    "from flask_login import logout_user\n",
    "\n",
    "@app.route('/logout')\n",
    "def logout():\n",
    "    logout_user()\n",
    "    return redirect(url_for('index'))\n"
   ]
  },
  {
   "cell_type": "code",
   "execution_count": null,
   "metadata": {},
   "outputs": [],
   "source": [
    "#Requiring Users to Login\n",
    "#Putting this in the init.py file tells flask where it should redirect people who aren't signed in\n",
    "login = LoginManager(app)\n",
    "login.login_view = 'login'\n",
    "    #login.login_view = '____________'\n",
    "    #                    (endpoint variable- what you would put inside a 'url_for()' tag)\n",
    "    \n",
    "#To actually restrict access to an endpoint\n",
    "\n",
    "@app.route('/index')\n",
    "@login_required\n",
    "    def index():\n",
    "        # ..."
   ]
  },
  {
   "cell_type": "code",
   "execution_count": null,
   "metadata": {},
   "outputs": [],
   "source": [
    "#Redirects with required logins\n",
    "\n",
    "#Using the @login_required decorator will communicate the website where a user was before redirect\n",
    "\n",
    "#The next query string tells the redirect where to point\n",
    "#(URL becomes /login?next=/index)\n",
    "\n",
    "def login():\n",
    "    if form.validate_on_submit():\n",
    "        user = User.query.filter_by(username=form.username.data).first()\n",
    "        if user is None or not user.check_password(form.password.data):\n",
    "            flash('Invalid Username or Password')\n",
    "            return redirect(url_for('login'))\n",
    "        #Call the function that logs a user in\n",
    "        login_user(user, remember=form.remember_me.data)\n",
    "        #Set the next_page to tell the next function where to redirect\n",
    "        #1) Retrieve the info the client sent with the request (in dictionary form)\n",
    "        next_page = request.args.get('next')\n",
    "        #2) Case Statements for security\n",
    "            #1)If no next statement, send to index. If statement isn't a relative url, send to index. Else, send to appropriate redirect location.\n",
    "        if not next_page or url_parse(next_page).netlog != '':\n",
    "            next_page = url_for('index')\n",
    "        return redirect(next_page)"
   ]
  },
  {
   "cell_type": "code",
   "execution_count": null,
   "metadata": {},
   "outputs": [],
   "source": [
    "#Variable urls \n",
    "\n",
    "#Text between < > takes the argument of the subfunction \n",
    "@app.route('/user/<username>')\n",
    "def user(username):\n",
    "    return render_template('user.html')\n",
    "    #@app.route('_______/<________>')\n",
    "    #            (path)  (variable)\n",
    "    #def ______________(________________________)\n",
    "    #   (function name) (same variable as above)\n",
    "        #return render_template('________.html')\n",
    "        #                         (path)\n",
    "    \n",
    "#To link to an address like this in html, the url_for argument is rendered:\n",
    "{{ url_for('user', username=current_user.username) }}\n",
    "    #{{ url_for('__________' _________ = __________________)}}\n",
    "    #            (path)     (variable)  (value of variable)"
   ]
  },
  {
   "cell_type": "markdown",
   "metadata": {},
   "source": [
    "## Error-handling"
   ]
  },
  {
   "cell_type": "code",
   "execution_count": null,
   "metadata": {},
   "outputs": [],
   "source": [
    "#Debug mode can be set in console as:\n",
    "\n",
    "export FLASK_DEBUG=1"
   ]
  },
  {
   "cell_type": "code",
   "execution_count": null,
   "metadata": {},
   "outputs": [],
   "source": [
    "#Flask's @errorhandler decorator lets you install custom error pages\n",
    "\n",
    "@app.errorhandler(404)\n",
    "def not_found_error(error):\n",
    "    return render_template('404.html'), 404\n",
    "\n",
    "#You also may want to issue a rollback to prevent database errors from breaking everything\n",
    "\n",
    "@app.errorhandler(500)\n",
    "def internal_error(error):\n",
    "    db.session.rollback()\n",
    "    return render_template('500.html'), 500"
   ]
  },
  {
   "cell_type": "code",
   "execution_count": null,
   "metadata": {},
   "outputs": [],
   "source": [
    "#To set up the application to send you an email when an error occurs\n",
    "\n",
    "#In your config file:\n",
    "class Config(object):\n",
    "    # ...\n",
    "    MAIL_SERVER = os.environ.get('MAIL_SERVER')\n",
    "    MAIL_PORT = int(os.environ.get('MAIL_PORT') or 25)\n",
    "    MAIL_USE_TLS = os.environ.get('MAIL_USE_TLS') is not None\n",
    "    MAIL_USERNAME = os.environ.get('MAIL_USERNAME')\n",
    "    MAIL_PASSWORD = os.environ.get('MAIL_PASSWORD')\n",
    "    ADMINS = ['your-email@example.com']\n",
    "    \n",
    "#In your init file:\n",
    "import logging\n",
    "from logging.handlers import SMTPHandler\n",
    "\n",
    "# ...\n",
    "\n",
    "if not app.debug:\n",
    "    if app.config['MAIL_SERVER']:\n",
    "        auth = None\n",
    "        if app.config['MAIL_USERNAME'] or app.config['MAIL_PASSWORD']:\n",
    "            auth = (app.config['MAIL_USERNAME'], app.config['MAIL_PASSWORD'])\n",
    "        secure = None\n",
    "        if app.config['MAIL_USE_TLS']:\n",
    "            secure = ()\n",
    "        mail_handler = SMTPHandler(\n",
    "            mailhost=(app.config['MAIL_SERVER'], app.config['MAIL_PORT']),\n",
    "            fromaddr='no-reply@' + app.config['MAIL_SERVER'],\n",
    "            toaddrs=app.config['ADMINS'], subject='Microblog Failure',\n",
    "            credentials=auth, secure=secure)\n",
    "        mail_handler.setLevel(logging.ERROR)\n",
    "        app.logger.addHandler(mail_handler)"
   ]
  },
  {
   "cell_type": "code",
   "execution_count": null,
   "metadata": {},
   "outputs": [],
   "source": [
    "#To log errors to a file\n",
    "\n",
    "#In the config file:\n",
    "from logging.handlers import RotatingFileHandler\n",
    "import os\n",
    "\n",
    "#Only runs if the server's in production mode\n",
    "if not app.debug:\n",
    "    #Creates the log path if it doesn't already exist\n",
    "    if not os.path.exists('logs'):\n",
    "        os.mkdir('logs')\n",
    "    #Rotating file handler manages the size of the logs - 10k size max, last 10 backups\n",
    "    file_handler = RotatingFileHandler('logs/microblog.log', maxBytes=10240, backupCount=10)\n",
    "    #Custom formatting for log messages (what to include)\n",
    "    file_handler.setFormatter(logging.Formatter(\n",
    "        #Time stamp, Logging Level, Message, Source file, and Line Number\n",
    "        '%(asctime)s %(levelname)s: %(message)s [in %(pathname)s:%(lineno)d]'))\n",
    "    #Logs only INFO category and above\n",
    "    file_handler.setLevel(logging.INFO)\n",
    "    app.logger.addHandler(file_handler)\n",
    "    #Writes a startup line every time the server starts\n",
    "    app.logger.setLevel(logging.INFO)\n",
    "    app.logger.info('Microblog startup')"
   ]
  },
  {
   "cell_type": "markdown",
   "metadata": {},
   "source": [
    "### Flask-Mail"
   ]
  },
  {
   "cell_type": "code",
   "execution_count": null,
   "metadata": {},
   "outputs": [],
   "source": [
    "#To configure the extension as part of your webapp\n",
    "\n",
    "class Config(object)\n",
    "    MAIL_SERVER = os.environ.get('MAIL_SERVER')\n",
    "    MAIL_PORT = int(os.environ.get('MAIL_PORT') or 25)\n",
    "    MAIL_USE_TLS = os.environ.get('MAIL_USE_TLS') is not None\n",
    "    MAIL_USERNAME = os.environ.get('MAIL_USERNAME')\n",
    "    MAIL_PASSWORD = os.environ.get('MAIL_PASSWORD')\n",
    "    ADMINS = [\"email@email.com\"]"
   ]
  },
  {
   "cell_type": "code",
   "execution_count": null,
   "metadata": {},
   "outputs": [],
   "source": [
    "#Create instance of flask mail (in init.py file)\n",
    "\n",
    "from flask_mail import Mail\n",
    "\n",
    "app = Flask(__name__)\n",
    "# ...\n",
    "mail = Mail(app)"
   ]
  },
  {
   "cell_type": "code",
   "execution_count": null,
   "metadata": {},
   "outputs": [],
   "source": [
    "#Create a wrapper function to use to send emails\n",
    "\n",
    "from flask_mail import Message\n",
    "from app import mail\n",
    "\n",
    "def send_email(subject, sender, recipients, text_body, html_body):\n",
    "    msg = Message(subject, sender=sender, recipients=recipients)\n",
    "    msg.body = text_body\n",
    "    msg.html = html_body\n",
    "    mail.send(msg)"
   ]
  },
  {
   "cell_type": "markdown",
   "metadata": {},
   "source": [
    "### Encoding with JSON Web Tokens (JWT)"
   ]
  },
  {
   "cell_type": "code",
   "execution_count": null,
   "metadata": {},
   "outputs": [],
   "source": [
    "#Useful for sending encrypted password reset links\n",
    "\n",
    "#Create a method of the user class to call when necessary\n",
    "\n",
    "import jwt\n",
    "from time import time\n",
    "\n",
    "class User(UserMixin, db.Model):\n",
    "    \n",
    "    #Generates the token\n",
    "    def get_token(self, expires_in=600):\n",
    "        return jwt.encode(\n",
    "        {'reset_password' : self.id, 'exp' : time() + expires_in},\n",
    "            app.config['SECRET_KEY'], algorithm='HS256').decode('utf-8')\n",
    "    \n",
    "    #Reads the token to determine if it's correct\n",
    "    @staticmethod\n",
    "    def verify_token(token):\n",
    "        try:\n",
    "            id = jwt.decode(token, app.config['SECRET_KEY'],\n",
    "                           algorithms=['hHS256'])['reset_password']\n",
    "        except:\n",
    "            return\n",
    "        return User.query.get(id)\n",
    "        "
   ]
  },
  {
   "cell_type": "markdown",
   "metadata": {},
   "source": [
    "### Flask Bootstrap\n",
    "\n",
    "Library that implements bootstrap within an existing flask app "
   ]
  },
  {
   "cell_type": "code",
   "execution_count": null,
   "metadata": {},
   "outputs": [],
   "source": [
    "#Initializing the package (in init.py file)\n",
    "\n",
    "#This creates a bootstrap/base.html template that can be referenced within the application (w/ extends)\n",
    "\n",
    "from flask_bootstrap import Bootstrap\n",
    "\n",
    "app = Flask(__name__)\n",
    "bootstrap = Bootstrap(app)"
   ]
  },
  {
   "cell_type": "code",
   "execution_count": null,
   "metadata": {},
   "outputs": [],
   "source": [
    "#Flask bootstrap can render forms using bootstrap styling with a single macro\n",
    "\n",
    "{% import 'bootstrap/wtf.html' as wtf %}\n",
    "\n",
    "{% block content %}\n",
    "\n",
    "<div class=\"col-md-4\">\n",
    "    {{ wtf.quick_form(form) }}\n",
    "</div>\n",
    "\n",
    "{% endblock %}"
   ]
  },
  {
   "cell_type": "markdown",
   "metadata": {},
   "source": [
    "### Flask-Moment (w/ moment.js)\n",
    "\n",
    "Time-zone handling "
   ]
  },
  {
   "cell_type": "code",
   "execution_count": null,
   "metadata": {},
   "outputs": [],
   "source": [
    "#Initialization (in init.py)\n",
    "\n",
    "from flask_moment import Moment\n",
    "\n",
    "moment = Moment(app)"
   ]
  },
  {
   "cell_type": "code",
   "execution_count": null,
   "metadata": {},
   "outputs": [],
   "source": [
    "#Include moment via script tag or as a function call in your base template\n",
    "\n",
    "#The scripts block is inherited from the flask-bootstrap library. It won't work if you're not also using that.\n",
    "{% block scripts %}\n",
    "    {{ super() }}\n",
    "    {{ moment.include_moment() }}\n",
    "\n",
    "{% endblock %}\n",
    "\n",
    "#The super call above preserves the content in the base template"
   ]
  },
  {
   "cell_type": "code",
   "execution_count": null,
   "metadata": {},
   "outputs": [],
   "source": [
    "#Moment formatting options\n",
    "\n",
    "moment('2017-09-28T21:45:23Z').format('L')\n",
    "\"09/28/2017\"\n",
    "moment('2017-09-28T21:45:23Z').format('LL')\n",
    "\"September 28, 2017\"\n",
    "moment('2017-09-28T21:45:23Z').format('LLL')\n",
    "\"September 28, 2017 2:45 PM\"\n",
    "moment('2017-09-28T21:45:23Z').format('LLLL')\n",
    "\"Thursday, September 28, 2017 2:45 PM\"\n",
    "moment('2017-09-28T21:45:23Z').format('dddd')\n",
    "\"Thursday\"\n",
    "moment('2017-09-28T21:45:23Z').fromNow()\n",
    "\"7 hours ago\"\n",
    "moment('2017-09-28T21:45:23Z').calendar()\n",
    "\"Today at 2:45 PM\""
   ]
  },
  {
   "cell_type": "markdown",
   "metadata": {},
   "source": [
    "### Internationalization and Localization\n",
    "\n",
    "Working with different languages"
   ]
  },
  {
   "cell_type": "code",
   "execution_count": null,
   "metadata": {},
   "outputs": [],
   "source": [
    "#Initialize flask-babel\n",
    "\n",
    "from flask_babel import Babel\n",
    "\n",
    "babel = Babel(app)"
   ]
  },
  {
   "cell_type": "code",
   "execution_count": null,
   "metadata": {},
   "outputs": [],
   "source": [
    "#Configure language options in the config object\n",
    "\n",
    "class Config(object):\n",
    "    # ...\n",
    "    LANGUAGES = ['en', 'es']"
   ]
  },
  {
   "cell_type": "code",
   "execution_count": null,
   "metadata": {},
   "outputs": [],
   "source": [
    "#Language preferences are returned on the client-side. Babel can access them with the decorator @localeselector\n",
    "\n",
    "from flask import request\n",
    "\n",
    "@babel.localeselector\n",
    "def get_locale():\n",
    "    return request.accept_languages.best_match(app.config['LANGUAGES'])"
   ]
  },
  {
   "cell_type": "code",
   "execution_count": null,
   "metadata": {},
   "outputs": [],
   "source": [
    "#Babel scans for marked texts and extracts them using the gettext file.\n",
    "\n",
    "from flask_babel import _\n",
    "\n",
    "#Basic text\n",
    "flash(_('Your post is now live!'))\n",
    "\n",
    "#with a {} in the middle\n",
    "flash(_('User %(username)s not found.', username=username))\n",
    "\n",
    "#In html/jinja\n",
    "<h1> I'm a header </h1>\n",
    "#becomes\n",
    "<h1>{{ _('File Not Found') }}\n",
    "\n",
    "#To implement as lazy (called after the text)\n",
    "from flask_babel import lazy_gettext as _1\n",
    "\n",
    "class LoginForm(FlaskForm):\n",
    "    username = StringField(_1('Username'), validators=[DataRequired()])"
   ]
  },
  {
   "cell_type": "code",
   "execution_count": null,
   "metadata": {},
   "outputs": [],
   "source": [
    "#Extracting text\n",
    "\n",
    "#Create configuration file to tell pybabel where to stroe the translatable texts\n",
    "#babel.cfg\n",
    "[python: app/**.py]\n",
    "[jinja2: app/templates/**.html]\n",
    "extensions=jinja2.ext.autoescape,jinja2.ext.with_\n",
    "\n",
    "#To extract files (in command line)\n",
    "pybabel extract -F babel.cfg -k _1 -o messages.pot .\n",
    "#-F babel.cfg is flag for configuration file\n",
    "#-k _1 marks theflag as nondefault (_ is default)\n",
    "#-o passes the name of the translation file"
   ]
  },
  {
   "cell_type": "code",
   "execution_count": null,
   "metadata": {},
   "outputs": [],
   "source": [
    "#Generating a language catalogue\n",
    "\n",
    "#Command line\n",
    "pybabel init -i messages.pot -d app/translations -l es\n",
    "#-i specifies the file to translate\n",
    "#-d specifies where to put the translation\n",
    "#-l specifies the language"
   ]
  },
  {
   "cell_type": "code",
   "execution_count": 1,
   "metadata": {},
   "outputs": [],
   "source": [
    "#Translation can be done via third party app (like poedit or po.vim or can be done manually)"
   ]
  },
  {
   "cell_type": "code",
   "execution_count": null,
   "metadata": {},
   "outputs": [],
   "source": [
    "#Compiling the translated file\n",
    "\n",
    "#Command line\n",
    "pybabel compile -d app/translations"
   ]
  },
  {
   "cell_type": "code",
   "execution_count": null,
   "metadata": {},
   "outputs": [],
   "source": [
    "#To update language catalogue:\n",
    "\n",
    "#Generate new .pot file\n",
    "pybabel extract -F babel.cfg -k _l -o messages.pot .\n",
    "#Update existing .po files \n",
    "pybabel update -i messages.pot -d app/translations"
   ]
  },
  {
   "cell_type": "code",
   "execution_count": null,
   "metadata": {},
   "outputs": [],
   "source": [
    "#Using flask_babel to implement localization in moment\n",
    "from flask import g\n",
    "from flask_babel import get_locale\n",
    "\n",
    "#In routes.py file\n",
    "@app.before_request\n",
    "def before_request():\n",
    "    g.locale = str(get_locale())\n",
    "\n",
    "#In base.html file (assuming it's configured w/ flask bootstrap):\n",
    "{% block scripts %}\n",
    "    {{ super() }}\n",
    "    {{ moment.include_moment() }}\n",
    "    {{ moment.lang(g.locale) }}\n",
    "{% endblock %}\n",
    "    \n",
    "    "
   ]
  },
  {
   "cell_type": "markdown",
   "metadata": {},
   "source": [
    "### Working with Javascript"
   ]
  },
  {
   "cell_type": "code",
   "execution_count": null,
   "metadata": {},
   "outputs": [],
   "source": [
    "#Javascript within script tags can take python variables passed to it\n",
    "\n",
    "<script>\n",
    "\n",
    "    function translate(sourceElem, destElem, sourceLang, destLang) {\n",
    "        #AJAX POST CALL. Requires target url followed by a JS Object (Python dictionary) containing the data parameters\n",
    "        $.post('/translate', {\n",
    "            text: $(sourceElem).text(),\n",
    "            source_language: sourceLang,\n",
    "            dest_language: destLang\n",
    "        }).done(function(response) {\n",
    "            $(destElem).text(response['text'])\n",
    "        }).fail(function() {\n",
    "            $(destElem).text(\"Error: No server response\");\n",
    "        })''\n",
    "    }\n",
    "\n",
    "</script>\n",
    "\n",
    "#This can be called in a corresponding html function by passing it as a hyperlink and providing the necessary arguments\n",
    "\n",
    "<a href=\"javascript:translate(\n",
    "    '#post{{ post.id }})'\"\n",
    "    '#translation{{ post.id }}';\"> Link </a>"
   ]
  },
  {
   "cell_type": "markdown",
   "metadata": {},
   "source": [
    "### Basic Work-Flow"
   ]
  },
  {
   "cell_type": "markdown",
   "metadata": {},
   "source": [
    "##### Adding a feature (user input, storage, and display):\n",
    "\n",
    "1. Add a class in your forms file to define a new input sheet.\n",
    "\n",
    "    class UserInput(FlaskForm):\n",
    "        input1 = StringField('label', validators=...)\n",
    "        input2 = ...\n",
    "        submit = SubmitField('Submit')\n",
    "\n",
    "2. Add the form to corresponding html page.\n",
    "    \n",
    "    <form action=\"\", method=\"post\">\n",
    "        {{ form.post.label }}\n",
    "        {{ form.post(size=...)}}\n",
    "        {{ form.submit() }}\n",
    "    </form>\n",
    "\n",
    "3. Add form & handling to the view function (routes.py)\n",
    "\n",
    "    @app.route('/', methods=['GET', 'POST'])\n",
    "    def index():\n",
    "        form = UserInput()\n",
    "        if form.validate_on_submit():\n",
    "            db_variable = DB_Class(instance=form.db_variable.data. ...)\n",
    "            db.session.add(db_variable)\n",
    "            db.session.commit()\n",
    "            return redirect(url_for('index'))\n",
    "            \n",
    "            ...\n",
    "            \n",
    "        return render_template('index.html, title=\"Title\", form=form\")"
   ]
  },
  {
   "cell_type": "code",
   "execution_count": null,
   "metadata": {},
   "outputs": [],
   "source": []
  }
 ],
 "metadata": {
  "kernelspec": {
   "display_name": "Python 3",
   "language": "python",
   "name": "python3"
  },
  "language_info": {
   "codemirror_mode": {
    "name": "ipython",
    "version": 3
   },
   "file_extension": ".py",
   "mimetype": "text/x-python",
   "name": "python",
   "nbconvert_exporter": "python",
   "pygments_lexer": "ipython3",
   "version": "3.7.3"
  }
 },
 "nbformat": 4,
 "nbformat_minor": 2
}
