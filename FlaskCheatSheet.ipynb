{
 "cells": [
  {
   "cell_type": "code",
   "execution_count": null,
   "metadata": {},
   "outputs": [],
   "source": [
    "#Flask\n",
    "#Flask enables you to write python for the web\n",
    "#We store it in a .py file rather than a Jupyter notebook"
   ]
  },
  {
   "cell_type": "code",
   "execution_count": null,
   "metadata": {},
   "outputs": [],
   "source": [
    "#library\n",
    "from flask import Flask"
   ]
  },
  {
   "cell_type": "code",
   "execution_count": null,
   "metadata": {},
   "outputs": [],
   "source": [
    "#Create the app (the file you are using)\n",
    "app = Flask(__name__)"
   ]
  },
  {
   "cell_type": "code",
   "execution_count": null,
   "metadata": {},
   "outputs": [],
   "source": [
    "#Define what to do when the user hits the index route (the home page)\n",
    "@app.route(\"/\")\n",
    "def home():\n",
    "    print(\"Whatever you want so long as you only expect to find it in the console\")\n",
    "    return(\"Public-facing web text\")\n",
    "\n"
   ]
  },
  {
   "cell_type": "code",
   "execution_count": null,
   "metadata": {},
   "outputs": [],
   "source": [
    "#This initializes the app-- it makes it run\n",
    "#It's found at the end of your code\n",
    "if __name__ == \"__main__\":\n",
    "    app.run(debug=True)"
   ]
  },
  {
   "cell_type": "code",
   "execution_count": null,
   "metadata": {},
   "outputs": [],
   "source": [
    "#To parse something to json format, use jsonify()\n",
    "return jsonify(dictionary)\n",
    "    #return jsonify(__________)\n",
    "    #               (the dictionary you want to appear in json)"
   ]
  },
  {
   "cell_type": "code",
   "execution_count": null,
   "metadata": {},
   "outputs": [],
   "source": [
    "#Variable paths \n",
    "#Urls entered by the user\n",
    "\n",
    "@app.route(\"/api.justice-league/and-so-on/<real_name>\")\n",
    "def justice_league_by_real_name(real_name)\n",
    "\n",
    "    canonicalized = real_name.replace(\" \", \"\".lower())\n",
    "    for character in justice_league_members:\n",
    "        search_term = character[\"real_name\"].replace(\" \", \"\").lower()\n",
    "            \n",
    "        if search_term == canonicalized:\n",
    "            return jsonify(character)\n",
    "        \n",
    "    return jsonify({\"error\": \"result not found\"})    \n"
   ]
  },
  {
   "cell_type": "code",
   "execution_count": null,
   "metadata": {},
   "outputs": [],
   "source": [
    "#To serve html from another file\n",
    "#Note: this method relies upon having a folder called \"templates\" in the same folder as the script running flask\n",
    "#That then becomes the template for whatever you put in the text field (or variable)\n",
    "@app.route(\"/whatever\")\n",
    "def echo():\n",
    "    return render_template(\"index.html\", text = \"literally whatever\")\n",
    "\n",
    "#In html, the variables go in with double curly braces wherever you want them\n",
    "<h1> {{text}} <h1>\n",
    "\n",
    "#Doing a loop looks something like this:\n",
    "{% for name in list %}\n",
    "{{name}}\n",
    "{% endfor %}\n",
    "\n",
    "#To return a value in a dictionary, you call it like this in the html:\n",
    "{{dict.player_1}}\n",
    "    #{{_______________.____________}}\n",
    "    #(dictionary name)    (key)"
   ]
  },
  {
   "cell_type": "code",
   "execution_count": null,
   "metadata": {},
   "outputs": [],
   "source": [
    "#You can connect to pymongo in flask to serve data to the web\n",
    "\n",
    "conn = 'mongodb://localhost:27017'\n",
    "client = pymongo.MongoClient(conn)"
   ]
  },
  {
   "cell_type": "markdown",
   "metadata": {},
   "source": [
    "### Revision 12/23/19\n",
    "\n",
    "More sophisticated code, including separation of concerns."
   ]
  },
  {
   "cell_type": "code",
   "execution_count": null,
   "metadata": {},
   "outputs": [],
   "source": [
    "#Creating a package to run an application\n",
    "\n",
    "#1) Create a folder called app. Inside it, create an __init__.py file\n",
    "\n",
    "from flask import Flask\n",
    "\n",
    "app = Flask(__name__)\n",
    "\n",
    "from app import routes"
   ]
  },
  {
   "cell_type": "code",
   "execution_count": null,
   "metadata": {},
   "outputs": [],
   "source": [
    "#2) Create all routes in their own file within the app file\n",
    "\n",
    "from app import app\n",
    "\n",
    "@app.route('/')\n",
    "\n",
    "@app.route('/home')\n",
    "def home():\n",
    "    return \"Hello World!\""
   ]
  },
  {
   "cell_type": "code",
   "execution_count": null,
   "metadata": {},
   "outputs": [],
   "source": [
    "#3) Create a templates file in the app directory (app/templates). Your html files go in here."
   ]
  },
  {
   "cell_type": "code",
   "execution_count": null,
   "metadata": {},
   "outputs": [],
   "source": [
    "#Create the main application file at the top level\n",
    "\n",
    "from app import app"
   ]
  },
  {
   "cell_type": "code",
   "execution_count": null,
   "metadata": {},
   "outputs": [],
   "source": [
    "#To set flask as an environment variable in the console\n",
    "\n",
    "export FLASK_APP=flaskapp.py\n",
    "    #export FLASK_APP=______________\n",
    "    #                (main application file name)\n",
    "\n",
    "flask run"
   ]
  },
  {
   "cell_type": "code",
   "execution_count": null,
   "metadata": {},
   "outputs": [],
   "source": [
    "#Returning render template with variables\n",
    "\n",
    "#Python\n",
    "@app.route('/index')\n",
    "def index():\n",
    "    dictionary = {'variable' : 'example'}\n",
    "    return render_template('index.html', title = 'Home', dictionary = dictionary)\n",
    "\n",
    "#HTML\n",
    "<html>\n",
    "    <head>\n",
    "        <title>{{ title }} - Website </title>\n",
    "        #Returns home in the title bar\n",
    "    </head>\n",
    "    <body>\n",
    "        <h1>Hello, {{dictionary.variable}}</h1>\n",
    "        #Returns example in body of the webpage\n",
    "    </body>\n",
    "</html>"
   ]
  },
  {
   "cell_type": "code",
   "execution_count": null,
   "metadata": {},
   "outputs": [],
   "source": [
    "#Control statements with Jinja2\n",
    "#Control statements are indicated in html with single curly braces {% ____ %}\n",
    "\n",
    "#Conditionals\n",
    "{% if variable %}\n",
    "\n",
    "{% else %}\n",
    "\n",
    "{% endif %}\n",
    "\n",
    "#Loops\n",
    "\n",
    "{% for post in posts %}\n",
    "<div><p> {{ post.author.username }} says:\n",
    "    <b>{{ post.body }}</b></p></div>\n",
    "{% endfor %}\n"
   ]
  },
  {
   "cell_type": "code",
   "execution_count": null,
   "metadata": {},
   "outputs": [],
   "source": [
    "#Template Inheritance\n",
    "#Flask allows you to create a base template for elements of a webpage that don't change (like a navbar)\n",
    "\n",
    "#Base.html uses block statements to declare where the new content will go\n",
    "{% block content %}{% endblock %}\n",
    "\n",
    "#The inheritor page now gets a special modifier at the top\n",
    "\n",
    "{% extends \"base.html\"%}\n",
    "\n",
    "{% block content %}\n",
    "WHATEVER YOU WANT IN HERE\n",
    "{% endblock %}"
   ]
  },
  {
   "cell_type": "code",
   "execution_count": null,
   "metadata": {},
   "outputs": [],
   "source": [
    "#Flask_WTF\n",
    "\n",
    "#Flask_wtf allows you to create templates for forms (inside website html)\n",
    "\n",
    "{% block content%}\n",
    "\n",
    "<form action =\"\" method=\"post\" novalidate>\n",
    "#action = the website to submit the form info to. An empty string indicates that it should be submitted to the current webpage.\n",
    "#novalidate = designates lack of client-side validation (aka this form uses server-side validation)\n",
    "\n",
    "{{form.hidden_tag()}}\n",
    "#protects from CSFF attacks. Uses the secret key defined in configuration files\n",
    "\n",
    "#To display a form label (inside html):\n",
    "{{ form.username.label }}\n",
    "    # {{ form.______________.label}}\n",
    "    #         (field name)\n",
    "\n",
    "#To display the form:\n",
    "{{ form.username(size = 32) }}\n",
    "    # {{ form._____________(size = ______)}}\n",
    "    #         (field name)       (size of form)\n",
    "    #                      (This is also how you attach css classes and ids)"
   ]
  },
  {
   "cell_type": "code",
   "execution_count": null,
   "metadata": {},
   "outputs": [],
   "source": [
    "#POST Requests\n",
    "#(GET requests are the default)\n",
    "@app.route('/whatever', methods = ['GET', 'POST'])"
   ]
  },
  {
   "cell_type": "code",
   "execution_count": null,
   "metadata": {},
   "outputs": [],
   "source": [
    "#Form validation (#Flask WTF)\n",
    "\n",
    "#To validate all form submissions according to a class (can be defined in a forms.py file and imported)\n",
    "form.validate_on_submit()\n",
    "    #________.validate on submit()\n",
    "    #(Form Class)\n",
    "#form.validate returns either True or False\n",
    "\n",
    "#Example form class (dependencies: flask_wtf - FlaskForm; wtforms - StringField, PasswordField, BooleanField, SubmitField; wtforms.validators - DataRequired\n",
    "class LoginForm(FlaskForm)\n",
    "    username = StringField('Username', validators = [DataRequired()])\n",
    "    password = PasswordField('Password', validators=[DataRequired()])\n",
    "    remember_me = BooleanField('Remember Me')\n",
    "    submit = SubmitField('Sign In')\n",
    "    \n",
    "#To display errors in html:\n",
    "{% for error in form.username.errors %}\n",
    "#                (field label)\n",
    "    <span style:\"color: red;\">[{{ error }}]</span>\n",
    "{% endfor %}"
   ]
  },
  {
   "cell_type": "code",
   "execution_count": null,
   "metadata": {},
   "outputs": [],
   "source": [
    "#Flash function\n",
    "\n",
    "#In python:\n",
    "flash(\"I'm a message\".format(form.username.data())\n",
    "\n",
    "#In html\n",
    "      {% with messages = get_flashed_messages() %}\n",
    "          {% if messages %}\n",
    "      \n",
    "              {% for message in messages %}\n",
    "                  {{ message }}\n",
    "      \n",
    "              {% endfor %}\n",
    "          {% endif %}\n",
    "      {% endwith%}"
   ]
  },
  {
   "cell_type": "code",
   "execution_count": null,
   "metadata": {},
   "outputs": [],
   "source": [
    "#url mapping\n",
    "\n",
    "#In html:\n",
    "<a href=\"{{ url_for('index')}}\">Home</a>\n",
    "    #<a href=\"{{ url_for('__________')}}\">_________</a>\n",
    "    #                 (name of function (not route))\n",
    "\n",
    "#In python\n",
    "return redirect(url_for('index'))\n",
    "    #return redirect(url_for(\"___________\")\n",
    "    #                         (function name)"
   ]
  },
  {
   "cell_type": "markdown",
   "metadata": {},
   "source": [
    "### Flask-Migrate (based on alembic)"
   ]
  },
  {
   "cell_type": "code",
   "execution_count": null,
   "metadata": {},
   "outputs": [],
   "source": [
    "#Alembic maintains a migration repository to track changes to the database\n",
    "#The repository is essentially a bunch of sequentially ordered scripts\n",
    "\n",
    "#Create a migration repository in the console:\n",
    "#(flask environment variable must be already set [export FLASK_APP=____________.py])\n",
    "flask db init\n",
    "\n",
    "#To migrate the repository automatically\n",
    "flask db migrate\n",
    "#-to add a comment\n",
    "flask db migrate -m\n",
    "\n",
    "#To actually change the database\n",
    "#Push new changes\n",
    "flask db upgrade\n",
    "#Remove new changes\n",
    "flask db downgrade"
   ]
  }
 ],
 "metadata": {
  "kernelspec": {
   "display_name": "Python 3",
   "language": "python",
   "name": "python3"
  },
  "language_info": {
   "codemirror_mode": {
    "name": "ipython",
    "version": 3
   },
   "file_extension": ".py",
   "mimetype": "text/x-python",
   "name": "python",
   "nbconvert_exporter": "python",
   "pygments_lexer": "ipython3",
   "version": "3.7.3"
  }
 },
 "nbformat": 4,
 "nbformat_minor": 2
}
