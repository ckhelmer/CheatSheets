{
 "cells": [
  {
   "cell_type": "code",
   "execution_count": 1,
   "metadata": {},
   "outputs": [
    {
     "ename": "IndentationError",
     "evalue": "unexpected indent (<ipython-input-1-1a0a6e5f22b2>, line 7)",
     "output_type": "error",
     "traceback": [
      "\u001b[1;36m  File \u001b[1;32m\"<ipython-input-1-1a0a6e5f22b2>\"\u001b[1;36m, line \u001b[1;32m7\u001b[0m\n\u001b[1;33m    Other arguments:\u001b[0m\n\u001b[1;37m    ^\u001b[0m\n\u001b[1;31mIndentationError\u001b[0m\u001b[1;31m:\u001b[0m unexpected indent\n"
     ]
    }
   ],
   "source": [
    "#Beautiful Soup\n",
    "from bs4 import BeautifulSoup\n",
    "\n",
    "#To read a website with beautiful soup\n",
    "soup = bs(url, 'html.parser')\n",
    "    #________ = bs(_______, 'html.parser')\n",
    "    Other arguments:\n",
    "        'lxml'- faster\n",
    "    \n",
    "#To print a formatted version of above\n",
    "print(soup.prettify())\n",
    "\n",
    "#To extract title\n",
    "soup.title\n",
    "\n",
    "#To extract body:\n",
    "soup.body.text\n",
    "\n",
    "#To extract the first paragraph\n",
    "soup.body.p.text\n",
    "\n",
    "#Drop html tags using .text\n",
    "soup.title.text\n",
    "\n",
    "#Drop all formatting with .strip()\n",
    "soup.title.text.strip()\n",
    "\n",
    "#To extract all of something:\n",
    "soup.body.find_all('p')\n",
    "\n",
    "#You can also call an index on the above:\n",
    "soup.body.find_all('p')[0]\n",
    "\n",
    "#You can call a class to narrow your results further:\n",
    "soup.find_all('li', class_= \"class\")\n"
   ]
  },
  {
   "cell_type": "code",
   "execution_count": null,
   "metadata": {},
   "outputs": [],
   "source": [
    "#Using requests to pull back an entire website\n",
    "response = requests.get(url)"
   ]
  },
  {
   "cell_type": "code",
   "execution_count": 2,
   "metadata": {},
   "outputs": [],
   "source": [
    "#Using splinter to press buttons\n",
    "from splinter import Browser\n",
    "\n",
    "#To navigate to a URL:\n",
    "browser.visit(url)\n",
    "html = browser.html\n",
    "\n",
    "#To click something with a certain text:\n",
    "browser.click_link_by_partial_text('Next')"
   ]
  },
  {
   "cell_type": "code",
   "execution_count": null,
   "metadata": {},
   "outputs": [],
   "source": [
    "#Scraping with pandas basically lets you gather tables\n",
    "#This brings back a bunch of tables as a list. You can then index to specific tables.\n",
    "pd.read_html(url)\n",
    "\n",
    "#To turn it into a dataframe, you have to set the column names and do a little data cleaning.\n",
    "df.columns = [\"whatever\", 'whatever part 2']\n",
    "df.iloc[1:]\n"
   ]
  },
  {
   "cell_type": "code",
   "execution_count": null,
   "metadata": {},
   "outputs": [],
   "source": [
    "#Pandas will also turn tables back into html\n",
    "df.to_html()\n",
    "#strip unwanted newlines\n",
    "table.replace('\\n', '')\n",
    "#Save directly to the file of your choosing\n",
    "df.to_html('table.html')"
   ]
  }
 ],
 "metadata": {
  "kernelspec": {
   "display_name": "Python 3",
   "language": "python",
   "name": "python3"
  },
  "language_info": {
   "codemirror_mode": {
    "name": "ipython",
    "version": 3
   },
   "file_extension": ".py",
   "mimetype": "text/x-python",
   "name": "python",
   "nbconvert_exporter": "python",
   "pygments_lexer": "ipython3",
   "version": "3.6.7"
  }
 },
 "nbformat": 4,
 "nbformat_minor": 2
}
