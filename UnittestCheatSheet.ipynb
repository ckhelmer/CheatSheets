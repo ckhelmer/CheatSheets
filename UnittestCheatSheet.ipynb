{
 "cells": [
  {
   "cell_type": "code",
   "execution_count": null,
   "metadata": {},
   "outputs": [],
   "source": [
    "import unittest"
   ]
  },
  {
   "cell_type": "code",
   "execution_count": null,
   "metadata": {},
   "outputs": [],
   "source": [
    "#To run a single class worth of tests, setup looks like this:\n",
    "\n",
    "import unittest\n",
    "\n",
    "class TestObject(unittest.TestCase):\n",
    "    \n",
    "    def setUP(self):\n",
    "        #Any necessary conditions, databases, etc.\n",
    "    \n",
    "    def tearDown(self):\n",
    "        #Any necessary temporary files to remove\n",
    "        \n",
    "    def test_1(self):\n",
    "        #Temporary variables\n",
    "        #Assertion statements\n",
    "            \n",
    "    #[...]        \n",
    "\n",
    "if __name == '__main__':\n",
    "    unittest.main(verbosity = 2)\n",
    "    \n",
    "#All tests within the model can then be run in command line with python <filename>.py    "
   ]
  },
  {
   "cell_type": "code",
   "execution_count": null,
   "metadata": {},
   "outputs": [],
   "source": [
    "#Different operations within unittest\n",
    "\n",
    "class TestObject(unittest.TestCase):\n",
    "    \n",
    "    def inequality(self):\n",
    "        self.assertFalse(u.check_password('dog'))\n",
    "        self.assertTrue(u.check_password('cat'))\n",
    "        self.assertEqual(u.followers == 0)"
   ]
  }
 ],
 "metadata": {
  "kernelspec": {
   "display_name": "Python 3",
   "language": "python",
   "name": "python3"
  },
  "language_info": {
   "codemirror_mode": {
    "name": "ipython",
    "version": 3
   },
   "file_extension": ".py",
   "mimetype": "text/x-python",
   "name": "python",
   "nbconvert_exporter": "python",
   "pygments_lexer": "ipython3",
   "version": "3.7.3"
  }
 },
 "nbformat": 4,
 "nbformat_minor": 2
}
