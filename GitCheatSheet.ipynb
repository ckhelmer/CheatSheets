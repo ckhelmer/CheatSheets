{
 "cells": [
  {
   "cell_type": "markdown",
   "metadata": {},
   "source": [
    "# About Git\n",
    "\n",
    "### Distributed Version Control System\n",
    "\n",
    "- Every git DVCS contains a mirror of the git repository including its history\n",
    "- Git operations are almost all performed on the local machine (changes are stored locally)\n",
    "- Git uses checksums (SHA-1 hash) to store and refer to files.\n",
    "- Git adds rather than removes data"
   ]
  },
  {
   "cell_type": "markdown",
   "metadata": {},
   "source": [
    "### Three Git States\n",
    "\n",
    "#### Modified\n",
    "- The file has been changed, but those changes have not been committed\n",
    "- _modified files are found in the __working tree__. A working tree is one version of the project._\n",
    "#### Staged\n",
    "- The file has been marked to go into the next commit\n",
    "- _Staged files are contained in the __staging area__ or __index__. It is a file in your git directory_\n",
    "#### Committed\n",
    "- The data has been stored in the local database\n",
    "- _Committed files are stored in the __directory__ or __repository__._"
   ]
  },
  {
   "cell_type": "markdown",
   "metadata": {},
   "source": [
    "## Configuration\n",
    "\n",
    "Uses the git config tool\n",
    "\n",
    "Three levels of configuration:\n",
    "    \n",
    "1. System\n",
    "    - applies to all users of computer\n",
    "    - located in `/etc/gitcofig`\n",
    "    - `git config --system`\n",
    "2. User\n",
    "    - applies to a single user\n",
    "    - located in `~/.gitconfig` or `~/.config/git/config`\n",
    "    - `git config --global`\n",
    "3. Project\n",
    "    - applies to a single project\n",
    "    - located in project path `/.git/config`\n",
    "    - `git config`\n",
    "        \n",
    "Project level configurations overide user configurations which override system cofigurations"
   ]
  },
  {
   "cell_type": "markdown",
   "metadata": {},
   "source": [
    "#### Adding name and email\n",
    "\n",
    "`git config --global user.name \"Name\"`\n",
    "\n",
    "`git config --global user.email \"email@email.com\"`\n",
    "\n",
    "#### Changing text editor\n",
    "\n",
    "`git config --global core.editor \"atom --wait\"`\n",
    "\n",
    "#### Add color to git output in shell\n",
    "\n",
    "`git config --global color.ui true`\n",
    "\n",
    "#### Checking settings\n",
    "\n",
    "`git config --list`"
   ]
  },
  {
   "cell_type": "markdown",
   "metadata": {},
   "source": [
    "## Initializing Git\n",
    "\n",
    "While in the intended repository's root directory:\n",
    "\n",
    "`git init`"
   ]
  },
  {
   "cell_type": "markdown",
   "metadata": {},
   "source": [
    "## Help\n",
    "\n",
    "These commands can be called on other git functions\n",
    "\n",
    "- `git help ________`\n",
    "- `git _________ --help`\n",
    "- `man git-________`\n",
    "\n",
    "For __concise__ help:\n",
    "- `git _______ -h`"
   ]
  },
  {
   "cell_type": "markdown",
   "metadata": {},
   "source": [
    "To page forward:\n",
    "    - f or spacebar\n",
    "To page back:\n",
    "    - b\n",
    "To quit:\n",
    "    - q"
   ]
  },
  {
   "cell_type": "markdown",
   "metadata": {},
   "source": [
    "## Cloning a Repository"
   ]
  },
  {
   "cell_type": "markdown",
   "metadata": {},
   "source": [
    "Cloning a repository receives a full copy of all data the server has, including its history.\n",
    "\n",
    "`git clone https://github.com/ckhelmer/pythoncheatsheets`\n",
    "\n",
    "You can specify a directory name as an argument:\n",
    "\n",
    "`git clone https://github.com/ckhelmer/pythoncheatsheets new_repo_name`"
   ]
  },
  {
   "cell_type": "markdown",
   "metadata": {},
   "source": [
    "## Recording Changes"
   ]
  },
  {
   "cell_type": "markdown",
   "metadata": {},
   "source": [
    "### Check Status of Files\n",
    "\n",
    "`git status` \n",
    "\n",
    "Tells you which branch you're on, and whether there are untracked changes to add.\n",
    "\n",
    "#### Short Status\n",
    "\n",
    "`git status -s` OR `git status --short`\n",
    "\n",
    "    `??` : untracked files\n",
    "    `A`  : files that have been added and staged\n",
    "    `M`  : modified files\n",
    "    `MM` : has both staged and unstaged changes (needs git add)\n"
   ]
  },
  {
   "cell_type": "markdown",
   "metadata": {},
   "source": [
    "### Checking Detailed Status with git diff\n",
    "\n",
    "You can see the exact changes to code within files in your repository using git diff\n",
    "- It only shows unstaged changes. If you've added the changes, there will be no output.\n",
    "\n",
    "`git diff` (no arguments): compares your working directory with your staging area.\n",
    "\n",
    "`git diff --staged`: compares staged changes to the last commit\n",
    "`git dif --chached`: (does the same thing)\n"
   ]
  },
  {
   "cell_type": "markdown",
   "metadata": {},
   "source": [
    "### Track a new file\n",
    "\n",
    "`git add file.py`\n",
    "\n",
    "Stages a file for commit. Can take entire folder names. Adding `*` as an argument will include all the changes since your last commit"
   ]
  },
  {
   "cell_type": "markdown",
   "metadata": {},
   "source": [
    "### Commit Changes\n",
    "\n",
    "Move changes from staged to committed\n",
    "\n",
    "`git commit`\n",
    "\n",
    "Adding a `-v` to the command will add the diff output to the console.\n",
    "\n",
    "`git commit -m 'Message'` : allows you to leave a comment"
   ]
  },
  {
   "cell_type": "markdown",
   "metadata": {},
   "source": [
    "#### To skip staging (aka, skip the add step)\n",
    "\n",
    "To commit all changed files, whether they're saved or not:\n",
    "\n",
    "`git commit -a`"
   ]
  },
  {
   "cell_type": "markdown",
   "metadata": {},
   "source": [
    "### Remove a file\n",
    "\n",
    "Deleted files still show up in your repo. You must remove them with `git rm`.\n",
    "Git rm functions like git add: it moves removed files to a staging area. These changes must still be committed.\n",
    "\n",
    "`git rm FILE`\n",
    "\n",
    "Remove also accepts wildcards\n",
    "\n",
    "`git rm \\*~` : Removes everything ending in a ~\n",
    "\n",
    "#### To remove a file from the staging area and keep it in the working tree (your local directory):\n",
    "\n",
    "`git rm --cached FILE`"
   ]
  },
  {
   "cell_type": "markdown",
   "metadata": {},
   "source": [
    "### Move a file\n",
    "\n",
    "Git doesn't explicitly track file movement. Renamed files are not stored in metadata.\n",
    "\n",
    "#### To explicitly rename a file:\n",
    "\n",
    "`git mv ORIGINAL_FILE NEW_FILE_NAME`\n",
    "\n",
    "    *"
   ]
  },
  {
   "cell_type": "markdown",
   "metadata": {},
   "source": [
    "## Ignoring Files with gitignore\n",
    "\n",
    "A .gitignore file contains instructions for which files and lines to ignore\n",
    "\n",
    "-`cat .gitignore`\n",
    "\n",
    "-`*.[oa]` : ignore all files ending in .o or .a\n",
    "\n",
    "-`*~` : ignores all files ending in a tilde\n",
    "\n",
    "-`!lib.a` : track these files even though you are ignoring files ending in .a\n",
    "\n",
    "-`/TODO` : only ignore this file in the current directory\n",
    "\n",
    "-`build/` : ignore this entire directory\n",
    "\n",
    "-`doc/*.txt` : ignore all .txt files in a specific directory\n",
    "\n",
    "-`doc/**/*.pdf` : ignore all pdf files in all subdirectories of doc\n",
    "\n",
    "Github has a list of .gitignore files for use available at:\n",
    "    https://github.com/github/gitignore\n",
    "    \n",
    "A github repo can contain multiple gitignores in multiple subdirectories."
   ]
  },
  {
   "cell_type": "code",
   "execution_count": null,
   "metadata": {},
   "outputs": [],
   "source": []
  }
 ],
 "metadata": {
  "kernelspec": {
   "display_name": "Python 3",
   "language": "python",
   "name": "python3"
  },
  "language_info": {
   "codemirror_mode": {
    "name": "ipython",
    "version": 3
   },
   "file_extension": ".py",
   "mimetype": "text/x-python",
   "name": "python",
   "nbconvert_exporter": "python",
   "pygments_lexer": "ipython3",
   "version": "3.7.3"
  }
 },
 "nbformat": 4,
 "nbformat_minor": 2
}
