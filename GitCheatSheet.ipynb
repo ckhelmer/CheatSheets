{
 "cells": [
  {
   "cell_type": "markdown",
   "metadata": {},
   "source": [
    "# About Git\n",
    "\n",
    "### Distributed Version Control System\n",
    "\n",
    "- Every git DVCS contains a mirror of the git repository including its history\n",
    "- Git operations are almost all performed on the local machine (changes are stored locally)\n",
    "- Git uses checksums (SHA-1 hash) to store and refer to files.\n",
    "- Git adds rather than removes data"
   ]
  },
  {
   "cell_type": "markdown",
   "metadata": {},
   "source": [
    "### Three Git States\n",
    "\n",
    "#### Modified\n",
    "- The file has been changed, but those changes have not been committed\n",
    "- _modified files are found in the __working tree__. A working tree is one version of the project._\n",
    "#### Staged\n",
    "- The file has been marked to go into the next commit\n",
    "- _Staged files are contained in the __staging area__ or __index__. It is a file in your git directory_\n",
    "#### Committed\n",
    "- The data has been stored in the local database\n",
    "- _Committed files are stored in the __directory__ or __repository__._"
   ]
  },
  {
   "cell_type": "markdown",
   "metadata": {},
   "source": [
    "## Configuration\n",
    "\n",
    "Uses the git config tool\n",
    "\n",
    "Three levels of configuration:\n",
    "    \n",
    "1. System\n",
    "    - applies to all users of computer\n",
    "    - located in `/etc/gitcofig`\n",
    "    - `git config --system`\n",
    "2. User\n",
    "    - applies to a single user\n",
    "    - located in `~/.gitconfig` or `~/.config/git/config`\n",
    "    - `git config --global`\n",
    "3. Project\n",
    "    - applies to a single project\n",
    "    - located in project path `/.git/config`\n",
    "    - `git config`\n",
    "        \n",
    "Project level configurations overide user configurations which override system cofigurations"
   ]
  },
  {
   "cell_type": "markdown",
   "metadata": {},
   "source": [
    "#### Adding name and email\n",
    "\n",
    "`git config --global user.name \"Name\"`\n",
    "\n",
    "`git config --global user.email \"email@email.com\"`\n",
    "\n",
    "#### Changing text editor\n",
    "\n",
    "`git config --global core.editor \"atom --wait\"`\n",
    "\n",
    "#### Add color to git output in shell\n",
    "\n",
    "`git config --global color.ui true`\n",
    "\n",
    "#### Checking settings\n",
    "\n",
    "`git config --list`"
   ]
  },
  {
   "cell_type": "markdown",
   "metadata": {},
   "source": [
    "## Initializing Git\n",
    "\n",
    "While in the intended repository's root directory:\n",
    "\n",
    "`git init`"
   ]
  },
  {
   "cell_type": "markdown",
   "metadata": {},
   "source": [
    "## Help\n",
    "\n",
    "These commands can be called on other git functions\n",
    "\n",
    "- `git help ________`\n",
    "- `git _________ --help`\n",
    "- `man git-________`\n",
    "\n",
    "For __concise__ help:\n",
    "- `git _______ -h`"
   ]
  },
  {
   "cell_type": "markdown",
   "metadata": {},
   "source": [
    "To page forward:\n",
    "    - f or spacebar\n",
    "To page back:\n",
    "    - b\n",
    "To quit:\n",
    "    - q"
   ]
  },
  {
   "cell_type": "code",
   "execution_count": null,
   "metadata": {},
   "outputs": [],
   "source": []
  }
 ],
 "metadata": {
  "kernelspec": {
   "display_name": "Python 3",
   "language": "python",
   "name": "python3"
  },
  "language_info": {
   "codemirror_mode": {
    "name": "ipython",
    "version": 3
   },
   "file_extension": ".py",
   "mimetype": "text/x-python",
   "name": "python",
   "nbconvert_exporter": "python",
   "pygments_lexer": "ipython3",
   "version": "3.7.3"
  }
 },
 "nbformat": 4,
 "nbformat_minor": 2
}
