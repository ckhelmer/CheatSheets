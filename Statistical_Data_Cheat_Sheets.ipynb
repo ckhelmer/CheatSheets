{
 "cells": [
  {
   "cell_type": "code",
   "execution_count": null,
   "metadata": {},
   "outputs": [],
   "source": [
    "#Use spread for variance, standard deviation, and zipped z scores\n",
    "\n",
    "from spread import variance, standard_deviation, zipped_z scores "
   ]
  },
  {
   "cell_type": "code",
   "execution_count": null,
   "metadata": {},
   "outputs": [],
   "source": [
    "#Using stats\n",
    "\n",
    "mid = median(numbers)\n",
    "    #__________ = median(________)\n",
    "    #(variable)          (array name)\n"
   ]
  },
  {
   "cell_type": "code",
   "execution_count": null,
   "metadata": {},
   "outputs": [],
   "source": [
    "#Using numpy\n",
    "\n",
    "#Find quartiles\n",
    "q1 = np.percentile(numbers, 25)\n",
    "q3 = np.percentile(numbers, 75)\n",
    "    #____________ = np.percentile(_________, ___)\n",
    "     #(variable)                   (array)   (percentile as integer)\n",
    "\n",
    "#Interquartile range\n",
    "#These are not a set formula but it's useful if you've established conventions\n",
    "iqr = (q3-q1)\n",
    "lower_boundary = q1 - (1.4 * iqr)\n",
    "upper_boundary = q3 + (1.5 * iqr)\n",
    "\n",
    "#Checking for outliers given the above\n",
    "array[array >= upper_boundary]\n",
    "array[array <= lower_boundary]\n",
    "\n",
    "#Finding several means using list categorizations\n",
    "means = [np.mean(s) for s in samples] \n"
   ]
  },
  {
   "cell_type": "code",
   "execution_count": null,
   "metadata": {},
   "outputs": [],
   "source": [
    "#Using scipi\n",
    "from scipy.stats import sem\n",
    "\n",
    "#Find standard errors\n",
    "standard_errors = [sem(s) for s in samples]\n",
    "\n",
    "#Compose a t test\n",
    "#A t test is used to determine whether there is a signifcan difference between the means of two groups\n",
    "#We assess on p values (??? More research!)\n",
    "(t_stat, p) = ttest_ind(high_prices, low_prices, equal_var = False)\n",
    "    #(t_stat, p) = ttest_ind(_______, ______, equal_var = ______)\n",
    "    #                       (data 1)  (data 2)           (boolean)\n"
   ]
  }
 ],
 "metadata": {
  "kernelspec": {
   "display_name": "Python 3",
   "language": "python",
   "name": "python3"
  },
  "language_info": {
   "codemirror_mode": {
    "name": "ipython",
    "version": 3
   },
   "file_extension": ".py",
   "mimetype": "text/x-python",
   "name": "python",
   "nbconvert_exporter": "python",
   "pygments_lexer": "ipython3",
   "version": "3.7.1"
  }
 },
 "nbformat": 4,
 "nbformat_minor": 2
}
