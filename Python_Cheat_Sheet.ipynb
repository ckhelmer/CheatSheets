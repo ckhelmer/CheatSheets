{
 "cells": [
  {
   "cell_type": "code",
   "execution_count": null,
   "metadata": {},
   "outputs": [],
   "source": [
    "#open a csvfile w/ open and os:\n",
    "csvpath = \"employee_data.csv\"\n",
    "\n",
    "with open(csvpath, newline = \"\") as csvfile:\n",
    "    csvreader = csv.reader(csvfile, delimiter = \",\")\n",
    "    \n",
    "    #Loop begins here\n",
    "    for row in csvreader: "
   ]
  },
  {
   "cell_type": "markdown",
   "metadata": {},
   "source": [
    "# Basic Syntax"
   ]
  },
  {
   "cell_type": "markdown",
   "metadata": {},
   "source": [
    "### Identifiers\n",
    "\n",
    "- Python identifiers are case sensitive\n",
    "- Punctuation is not allowed within identifiers\n",
    "\n",
    "#### Naming Conventions\n",
    "- Class names begin with an uppercase. All others start with lowercase\n",
    "- Private identifiers begin with _ (a single underscore)\n",
    "- Strongly private identifiers begin with __ (a double underscore)\n",
    "- Language-defined special names end with __ (a double underscore)\n",
    "\n",
    "#### Reserved Words\n",
    "- and\n",
    "- assert\n",
    "- break\n",
    "- class\n",
    "- continue\n",
    "- def\n",
    "- del\n",
    "- elif\n",
    "- else\n",
    "- except\n",
    "- exec\n",
    "- finally\n",
    "- for\n",
    "- from\n",
    "- global\n",
    "- if\n",
    "- import\n",
    "- in\n",
    "- is\n",
    "- lambda\n",
    "- not\n",
    "- or\n",
    "- pass\n",
    "- print\n",
    "- raise\n",
    "- return\n",
    "- try\n",
    "- while\n",
    "- with\n",
    "- yield"
   ]
  },
  {
   "cell_type": "markdown",
   "metadata": {},
   "source": [
    "### Lines and Indentations\n",
    "\n",
    "##### Lines\n",
    "Python statements are expected to be written on a single line. \n",
    "**Multiline** statements require the use of \"\\\" as a line continuation character.\n",
    "- Lists [], dictionaries {}, and tuples () do not require the line continuation character\n",
    "\n",
    "**Two statements on a single line** can be connected with a semicolon (;) as long as neither starts a new code block.\n",
    "\n",
    "Python ignores completely blank lines.\n",
    "\n",
    "##### Indentation\n",
    "Python requires indents in certain blocks (conditionals, loops, functions, etc.) All statements within a block must be indented the same amount.\n",
    "\n",
    "##### Suites & Compound/Complex Statements\n",
    "\n",
    "A group of statements that make a single code block are called **suites**\n",
    "\n",
    "**Header lines** begin a statement (with a keyword) and end with a colon. They are followed by the suite.\n",
    "    \n",
    "    if header:\n",
    "        suite\n",
    "    else:\n",
    "        suite"
   ]
  },
  {
   "cell_type": "markdown",
   "metadata": {},
   "source": [
    "### Quotes\n",
    "\n",
    "Single, double, or triple quotes are all valid in Python.\n",
    "Triple Quotes (\"\"\") are used to span multiple lines."
   ]
  },
  {
   "cell_type": "markdown",
   "metadata": {},
   "source": [
    "### Comments\n",
    "\n",
    "Anything on a line after # will not be read.\n",
    "Multiline comments are denoted by '''"
   ]
  },
  {
   "cell_type": "markdown",
   "metadata": {},
   "source": [
    "# String Operations"
   ]
  },
  {
   "cell_type": "markdown",
   "metadata": {},
   "source": [
    "### Basic Operations"
   ]
  },
  {
   "cell_type": "code",
   "execution_count": null,
   "metadata": {},
   "outputs": [],
   "source": [
    "#Strings are autodeclared like any other variable in python\n",
    "\n",
    "var1 = \"Hi there\"\n",
    "\n",
    "#You can change another type of variable to a string via the str() operation or by writing it within quotes\n",
    "\n",
    "var2 = str(12)\n",
    "var3 = \"12\""
   ]
  },
  {
   "cell_type": "code",
   "execution_count": 4,
   "metadata": {},
   "outputs": [
    {
     "name": "stdout",
     "output_type": "stream",
     "text": [
      "HelloWorld\n"
     ]
    }
   ],
   "source": [
    "#Strings are concatenated with +\n",
    "\n",
    "var1 = \"Hello\"\n",
    "var2 = \"World\"\n",
    "\n",
    "print(var1+var2)"
   ]
  },
  {
   "cell_type": "code",
   "execution_count": 8,
   "metadata": {},
   "outputs": [
    {
     "name": "stdout",
     "output_type": "stream",
     "text": [
      "HelloHello\n"
     ]
    }
   ],
   "source": [
    "#Strings can be multiplied\n",
    "print(var1*2)"
   ]
  },
  {
   "cell_type": "code",
   "execution_count": 9,
   "metadata": {},
   "outputs": [
    {
     "name": "stdout",
     "output_type": "stream",
     "text": [
      "H\n",
      "el\n"
     ]
    }
   ],
   "source": [
    "#Strings can be sliced\n",
    "\n",
    "print(var1[0])\n",
    "\n",
    "print(var1[1:3])"
   ]
  },
  {
   "cell_type": "code",
   "execution_count": 15,
   "metadata": {},
   "outputs": [
    {
     "name": "stdout",
     "output_type": "stream",
     "text": [
      "True\n",
      "False\n",
      "False\n",
      "True\n"
     ]
    }
   ],
   "source": [
    "#You can find out which characters are in a string\n",
    "\n",
    "print(\"H\" in var1)\n",
    "\n",
    "print(\"c\" in var1)\n",
    "\n",
    "#You can also find out which characters are NOT in a string\n",
    "\n",
    "print(\"H\" not in var1)\n",
    "\n",
    "print(\"c\" not in var1)"
   ]
  },
  {
   "cell_type": "markdown",
   "metadata": {},
   "source": [
    "### String Formatting Operator"
   ]
  },
  {
   "cell_type": "markdown",
   "metadata": {},
   "source": [
    "The string formatting operator is % paired with a symbol\n",
    "\n",
    "Operator | Purpose\n",
    "%c         Character\n",
    "%s         string conversion\n",
    "%i         signed decimal integer\n",
    "%d         signed decimal integer\n",
    "%u         unsigned decimal integer\n",
    "%o         octal integer\n",
    "%x         hexadecimal integer (lowercase)\n",
    "%X         hexadecimal integer (uppercase)\n",
    "%e         exponential notation (lowercase e)\n",
    "%E         exponential notation (uppercase e)\n",
    "%f         floating point real number\n",
    "%g         the shorter of %f and %e\n",
    "%G         the shorter of %f and %E"
   ]
  },
  {
   "cell_type": "markdown",
   "metadata": {},
   "source": [
    "### Special Characters"
   ]
  },
  {
   "cell_type": "markdown",
   "metadata": {},
   "source": [
    "Symbol | Functionality\n",
    "*        Width or precision\n",
    "-        Left justification\n",
    "+        Display the plus sign\n",
    "<sp>     Leave a blank space before a positive number\n",
    "#        Add the octal leading zero ('0') or hexadecimal leading 0x\n",
    "0        Pad from the left with 0s instead of spaces\n",
    "%%       Produces the % sign\n",
    "(var)    Mapping variable (dictionary arguments)\n",
    "m.n.     m = minimum total width | n = number of digits to display after the decimal point\n",
    "\"\"\" \"\"\"  Triple quotes (single or double) allow for multi-line strings (formatted with the line breaks you have in code)\n",
    "''' ''' "
   ]
  },
  {
   "cell_type": "markdown",
   "metadata": {},
   "source": [
    "### Escape Characters"
   ]
  },
  {
   "cell_type": "code",
   "execution_count": null,
   "metadata": {},
   "outputs": [],
   "source": [
    "Backslash notation | Hexadecimal character | Description\n",
    "\\a                   0x07                    Bell or alert\n",
    "\\b                   0x08                    Backspace\n",
    "\\cx                                          Control-x\n",
    "\\C-x                                         Control-x\n",
    "\\e                   0x1b                    Escape\n",
    "\\f                   0x0c                    Formfeed\n",
    "\\M-\\C-x                                      Meta-Control-x\n",
    "\\n                   0x0a                    Newline\n",
    "\\nnn                                         Octal notation, where n is in the range 0.7\n",
    "\\r                   0x0d                    Carriage return\n",
    "\\s                   0x20                    Space\n",
    "\\t                   0x09                    Tab\n",
    "\\v                   0x0b                    Vertical tab\n",
    "\\x                                           Character x\n",
    "\\xnn                                         Hexadecimal notation, where n is in the range 0.9, a.f, or A.F"
   ]
  },
  {
   "cell_type": "code",
   "execution_count": 16,
   "metadata": {},
   "outputs": [
    {
     "name": "stdout",
     "output_type": "stream",
     "text": [
      "Hello \\n World\n"
     ]
    }
   ],
   "source": [
    "#Use a raw string to supress the meaning of escape characters\n",
    "\n",
    "print(r\"Hello \\n World\")"
   ]
  },
  {
   "cell_type": "markdown",
   "metadata": {},
   "source": [
    "### Built-in Methods"
   ]
  },
  {
   "cell_type": "code",
   "execution_count": 19,
   "metadata": {},
   "outputs": [
    {
     "name": "stdout",
     "output_type": "stream",
     "text": [
      "Hello world\n"
     ]
    }
   ],
   "source": [
    "#Capitalization\n",
    "\n",
    "var4 = \"hello world\"\n",
    "\n",
    "print(var1.capitalize())"
   ]
  },
  {
   "cell_type": "code",
   "execution_count": 20,
   "metadata": {},
   "outputs": [
    {
     "data": {
      "text/plain": [
       "'                                            hello world                                             '"
      ]
     },
     "execution_count": 20,
     "metadata": {},
     "output_type": "execute_result"
    }
   ],
   "source": [
    "#Padding\n",
    "\n",
    "#To center a string\n",
    "\n",
    "var4.center(100, \" \")\n",
    "    #__________.center(______, ________________________)\n",
    "    #(variable)       (width)(character to use as fill)"
   ]
  },
  {
   "cell_type": "code",
   "execution_count": 25,
   "metadata": {},
   "outputs": [
    {
     "data": {
      "text/plain": [
       "2"
      ]
     },
     "execution_count": 25,
     "metadata": {},
     "output_type": "execute_result"
    }
   ],
   "source": [
    "#Counting\n",
    "#Counts strings or characters within a string or substring\n",
    "\n",
    "var4.count('l', 0, 4)\n",
    "    #__________.count('______', ____________________, _____________)\n",
    "    #(variable)       (string) (beginning of search)(end of search)"
   ]
  },
  {
   "cell_type": "markdown",
   "metadata": {},
   "source": [
    "# Arithmetic Operations"
   ]
  },
  {
   "cell_type": "markdown",
   "metadata": {},
   "source": [
    "### Operators"
   ]
  },
  {
   "cell_type": "markdown",
   "metadata": {},
   "source": [
    "% - modulo - calculates the remainder\n",
    "// - integer division\n",
    "/  - float division\n",
    "** exponent"
   ]
  }
 ],
 "metadata": {
  "kernelspec": {
   "display_name": "Python 3",
   "language": "python",
   "name": "python3"
  },
  "language_info": {
   "codemirror_mode": {
    "name": "ipython",
    "version": 3
   },
   "file_extension": ".py",
   "mimetype": "text/x-python",
   "name": "python",
   "nbconvert_exporter": "python",
   "pygments_lexer": "ipython3",
   "version": "3.7.3"
  }
 },
 "nbformat": 4,
 "nbformat_minor": 2
}
