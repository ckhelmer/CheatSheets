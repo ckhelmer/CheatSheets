{
 "cells": [
  {
   "cell_type": "code",
   "execution_count": null,
   "metadata": {},
   "outputs": [],
   "source": [
    "#open a csvfile w/ open and os:\n",
    "csvpath = \"employee_data.csv\"\n",
    "\n",
    "with open(csvpath, newline = \"\") as csvfile:\n",
    "    csvreader = csv.reader(csvfile, delimiter = \",\")\n",
    "    \n",
    "    #Loop begins here\n",
    "    for row in csvreader: "
   ]
  },
  {
   "cell_type": "markdown",
   "metadata": {},
   "source": [
    "# Basic Syntax"
   ]
  },
  {
   "cell_type": "markdown",
   "metadata": {},
   "source": [
    "### Identifiers\n",
    "\n",
    "- Python identifiers are case sensitive\n",
    "- Punctuation is not allowed within identifiers\n",
    "\n",
    "#### Naming Conventions\n",
    "- Class names begin with an uppercase. All others start with lowercase\n",
    "- Private identifiers begin with _ (a single underscore)\n",
    "- Strongly private identifiers begin with __ (a double underscore)\n",
    "- Language-defined special names end with __ (a double underscore)\n",
    "\n",
    "#### Reserved Words\n",
    "- and\n",
    "- assert\n",
    "- break\n",
    "- class\n",
    "- continue\n",
    "- def\n",
    "- del\n",
    "- elif\n",
    "- else\n",
    "- except\n",
    "- exec\n",
    "- finally\n",
    "- for\n",
    "- from\n",
    "- global\n",
    "- if\n",
    "- import\n",
    "- in\n",
    "- is\n",
    "- lambda\n",
    "- not\n",
    "- or\n",
    "- pass\n",
    "- print\n",
    "- raise\n",
    "- return\n",
    "- try\n",
    "- while\n",
    "- with\n",
    "- yield"
   ]
  },
  {
   "cell_type": "markdown",
   "metadata": {},
   "source": [
    "### Lines and Indentations\n",
    "\n",
    "##### Lines\n",
    "Python statements are expected to be written on a single line. \n",
    "**Multiline** statements require the use of \"\\\" as a line continuation character.\n",
    "- Lists [], dictionaries {}, and tuples () do not require the line continuation character\n",
    "\n",
    "**Two statements on a single line** can be connected with a semicolon (;) as long as neither starts a new code block.\n",
    "\n",
    "Python ignores completely blank lines.\n",
    "\n",
    "##### Indentation\n",
    "Python requires indents in certain blocks (conditionals, loops, functions, etc.) All statements within a block must be indented the same amount.\n",
    "\n",
    "##### Suites & Compound/Complex Statements\n",
    "\n",
    "A group of statements that make a single code block are called **suites**\n",
    "\n",
    "**Header lines** begin a statement (with a keyword) and end with a colon. They are followed by the suite.\n",
    "    \n",
    "    if header:\n",
    "        suite\n",
    "    else:\n",
    "        suite"
   ]
  },
  {
   "cell_type": "markdown",
   "metadata": {},
   "source": [
    "### Quotes\n",
    "\n",
    "Single, double, or triple quotes are all valid in Python.\n",
    "Triple Quotes (\"\"\") are used to span multiple lines."
   ]
  },
  {
   "cell_type": "markdown",
   "metadata": {},
   "source": [
    "### Comments\n",
    "\n",
    "Anything on a line after # will not be read.\n",
    "Multiline comments are denoted by '''"
   ]
  },
  {
   "cell_type": "markdown",
   "metadata": {},
   "source": [
    "# Variables"
   ]
  },
  {
   "cell_type": "markdown",
   "metadata": {},
   "source": [
    "Variables are reserved memory locations to store values. Python doesn't require explicit declaration for variables. You don't need to specify either memory space or type.\n",
    "\n",
    "Variables are always declared with the name of the variable to the left of the equals sign, and the variable value to the right."
   ]
  },
  {
   "cell_type": "markdown",
   "metadata": {},
   "source": [
    "#### Multiple Assignment\n",
    "\n",
    "You can assign a single value to multiple variables."
   ]
  },
  {
   "cell_type": "code",
   "execution_count": null,
   "metadata": {},
   "outputs": [],
   "source": [
    "a = b = c = 100\n",
    "print(a, b, c)"
   ]
  },
  {
   "cell_type": "code",
   "execution_count": null,
   "metadata": {},
   "outputs": [],
   "source": [
    "You can also assign multiple variables to multiple values on the same line."
   ]
  },
  {
   "cell_type": "code",
   "execution_count": null,
   "metadata": {},
   "outputs": [],
   "source": [
    "a, b, c = \"Duck\", \"Duck\", 3\n",
    "print(a, b, c)"
   ]
  },
  {
   "cell_type": "markdown",
   "metadata": {},
   "source": [
    "#### Variable Deletion\n",
    "\n",
    "References to variablers can be deleted using the del keyword."
   ]
  },
  {
   "cell_type": "code",
   "execution_count": null,
   "metadata": {},
   "outputs": [],
   "source": [
    "del a, b, c"
   ]
  },
  {
   "cell_type": "markdown",
   "metadata": {},
   "source": [
    "#### Type Conversion\n",
    "\n",
    "#Conversion between types is possible by using the type name as a function"
   ]
  },
  {
   "cell_type": "markdown",
   "metadata": {},
   "source": [
    "##### Numbers"
   ]
  },
  {
   "cell_type": "code",
   "execution_count": null,
   "metadata": {},
   "outputs": [],
   "source": [
    "#Create an integer\n",
    "int(x [base, if x is a string])\n",
    "\n",
    "#Create a long\n",
    "long(x, [base, if x is a string])\n",
    "\n",
    "#Create a float\n",
    "float(a)\n",
    "\n",
    "#Create a complex\n",
    "complex(real, [imag])\n",
    "\n",
    "#Convert a single character to its integer value\n",
    "ord(x)"
   ]
  },
  {
   "cell_type": "markdown",
   "metadata": {},
   "source": [
    "##### String"
   ]
  },
  {
   "cell_type": "code",
   "execution_count": null,
   "metadata": {},
   "outputs": [],
   "source": [
    "#String representation\n",
    "str(x)\n",
    "\n",
    "#Expression String\n",
    "repr(x)\n",
    "\n",
    "#Evaluates string and returns an object\n",
    "eval(str)\n",
    "\n",
    "#Convert integer to character\n",
    "chr(x)\n",
    "\n",
    "#Convert integer to unicode character\n",
    "unichr(x)\n",
    "\n",
    "#Convert an integer to hexadecimal string\n",
    "hex(x)\n",
    "\n",
    "#Convert to an octal string\n",
    "oct(x)"
   ]
  },
  {
   "cell_type": "markdown",
   "metadata": {},
   "source": [
    "##### Tuples, Lists, and Sets"
   ]
  },
  {
   "cell_type": "code",
   "execution_count": null,
   "metadata": {},
   "outputs": [],
   "source": [
    "#Tuple\n",
    "tuple(x)\n",
    "\n",
    "#List\n",
    "list(x)\n",
    "\n",
    "#Set\n",
    "set(s)\n",
    "\n",
    "#Frozen set\n",
    "frozenset(s)\n",
    "\n",
    "#Dictionary - must contain a sequence of (key, value) tuples\n",
    "dict(d)"
   ]
  },
  {
   "cell_type": "markdown",
   "metadata": {},
   "source": [
    "# Operators"
   ]
  },
  {
   "cell_type": "markdown",
   "metadata": {},
   "source": [
    "### Operator Precedence\n",
    "\n",
    "1. Exponentiation (**)\n",
    "2. Complement, Unary Plus and Minus (~ + -)\n",
    "3. Multiply, divide, modulo, and floor division (* / % //)\n",
    "4. Addition and subtraction (+ -)\n",
    "5. Right and left bitwise shifts (<< >>)\n",
    "6. Bitwise AND (&)\n",
    "7. Bitwise and regular OR (^ | or)\n",
    "8. Comparison operators (< > >= <=)\n",
    "9. Equality operators (== != <> )\n",
    "10. Assignment operators ( = )\n",
    "11. Identity operators (is, is not)\n",
    "12. Membership operators (in, not in)\n",
    "13. Logical opreators (not, or, and)"
   ]
  },
  {
   "cell_type": "markdown",
   "metadata": {},
   "source": [
    "### Arithmetic Operators\n",
    "\n",
    "- addition (+)\n",
    "- subtraction (-)\n",
    "- multiplication (*)\n",
    "- modulo - calculates the remainder (%)\n",
    "- floor division (//) (form of integer division, always rounds down) \n",
    "- float division (/)\n",
    "- exponent (**)\n",
    "\n",
    "All of these can be added to an equals sign to assign a value to a variable\n",
    "For example:\n",
    "\n",
    "variable += 10\n",
    "\n",
    "is the same as\n",
    "variable = variable + 10"
   ]
  },
  {
   "cell_type": "markdown",
   "metadata": {},
   "source": [
    "### Comparison Operations\n",
    "\n",
    "- Equality (==)\n",
    "- Inequality (!=) or (<>)\n",
    "- Greater than (>)\n",
    "- Less than (<)\n",
    "- Greater than or equal to (>=)\n",
    "- Less than or equal to (<=)"
   ]
  },
  {
   "cell_type": "markdown",
   "metadata": {},
   "source": [
    "### Bitwise Operators\n",
    "\n",
    "Bitwise operators perform bit by bit operations.\n",
    "\n",
    "- Binary AND (&)\n",
    "- Binary OR (|)\n",
    "- Binary XOR (^)\n",
    "- Binary Ones Complement (~)\n",
    "- Binary Left Shift (<<)\n",
    "- Binary Right Shift (>>)"
   ]
  },
  {
   "cell_type": "markdown",
   "metadata": {},
   "source": [
    "### Logical Operators\n",
    "\n",
    "- Logical AND (and)\n",
    "- Logical OR (or)\n",
    "- Logical NOT (not)"
   ]
  },
  {
   "cell_type": "markdown",
   "metadata": {},
   "source": [
    "### Membership Operators\n",
    "\n",
    "Membership operators test for membership in a sequence (lists, strings, tuples, etc.)\n",
    "\n",
    "- in\n",
    "- not in"
   ]
  },
  {
   "cell_type": "markdown",
   "metadata": {},
   "source": [
    "### Identity Operators\n",
    "\n",
    "Identity operators compare the memory of two objects\n",
    " - is\n",
    " - is not"
   ]
  },
  {
   "cell_type": "markdown",
   "metadata": {},
   "source": [
    "# String Operations"
   ]
  },
  {
   "cell_type": "markdown",
   "metadata": {},
   "source": [
    "### Basic Operations"
   ]
  },
  {
   "cell_type": "code",
   "execution_count": null,
   "metadata": {},
   "outputs": [],
   "source": [
    "#Strings are autodeclared like any other variable in python\n",
    "\n",
    "var1 = \"Hi there\"\n",
    "\n",
    "#You can change another type of variable to a string via the str() operation or by writing it within quotes\n",
    "\n",
    "var2 = str(12)\n",
    "var3 = \"12\""
   ]
  },
  {
   "cell_type": "code",
   "execution_count": null,
   "metadata": {},
   "outputs": [],
   "source": [
    "#Strings are concatenated with +\n",
    "\n",
    "var1 = \"Hello\"\n",
    "var2 = \"World\"\n",
    "\n",
    "print(var1+var2)"
   ]
  },
  {
   "cell_type": "code",
   "execution_count": null,
   "metadata": {},
   "outputs": [],
   "source": [
    "#Strings can be multiplied\n",
    "print(var1*2)"
   ]
  },
  {
   "cell_type": "code",
   "execution_count": null,
   "metadata": {},
   "outputs": [],
   "source": [
    "#Strings can be sliced\n",
    "\n",
    "print(var1[0])\n",
    "\n",
    "print(var1[1:3])"
   ]
  },
  {
   "cell_type": "code",
   "execution_count": null,
   "metadata": {},
   "outputs": [],
   "source": [
    "#You can find out which characters are in a string\n",
    "\n",
    "print(\"H\" in var1)\n",
    "\n",
    "print(\"c\" in var1)\n",
    "\n",
    "#You can also find out which characters are NOT in a string\n",
    "\n",
    "print(\"H\" not in var1)\n",
    "\n",
    "print(\"c\" not in var1)"
   ]
  },
  {
   "cell_type": "markdown",
   "metadata": {},
   "source": [
    "### String Formatting Operator"
   ]
  },
  {
   "cell_type": "markdown",
   "metadata": {},
   "source": [
    "The string formatting operator is % paired with a symbol\n",
    "\n",
    "Operator | Purpose\n",
    "%c         Character\n",
    "%s         string conversion\n",
    "%i         signed decimal integer\n",
    "%d         signed decimal integer\n",
    "%u         unsigned decimal integer\n",
    "%o         octal integer\n",
    "%x         hexadecimal integer (lowercase)\n",
    "%X         hexadecimal integer (uppercase)\n",
    "%e         exponential notation (lowercase e)\n",
    "%E         exponential notation (uppercase e)\n",
    "%f         floating point real number\n",
    "%g         the shorter of %f and %e\n",
    "%G         the shorter of %f and %E"
   ]
  },
  {
   "cell_type": "markdown",
   "metadata": {},
   "source": [
    "### Special Characters"
   ]
  },
  {
   "cell_type": "markdown",
   "metadata": {},
   "source": [
    "Symbol | Functionality\n",
    "- (*)        Width or precision\n",
    "- (-)        Left justification\n",
    "- (+)        Display the plus sign\n",
    "- (<sp>)     Leave a blank space before a positive number\n",
    "- (#)        Add the octal leading zero ('0') or hexadecimal leading 0x\n",
    "- (0)        Pad from the left with 0s instead of spaces\n",
    "- (%%)       Produces the % sign\n",
    "- (var)    Mapping variable (dictionary arguments)\n",
    "- (m.n.)     m = minimum total width | n = number of digits to display after the decimal point\n",
    "- (\"\"\" \"\"\")  Triple quotes (single or double) allow for multi-line strings (formatted with the line breaks you have in code)\n",
    "- (''' ''') "
   ]
  },
  {
   "cell_type": "markdown",
   "metadata": {},
   "source": [
    "### Escape Characters"
   ]
  },
  {
   "cell_type": "markdown",
   "metadata": {},
   "source": [
    "Backslash notation | Hexadecimal character | Description\n",
    "\\a                   0x07                    Bell or alert\n",
    "\\b                   0x08                    Backspace\n",
    "\\cx                                          Control-x\n",
    "\\C-x                                         Control-x\n",
    "\\e                   0x1b                    Escape\n",
    "\\f                   0x0c                    Formfeed\n",
    "\\M-\\C-x                                      Meta-Control-x\n",
    "\\n                   0x0a                    Newline\n",
    "\\nnn                                         Octal notation, where n is in the range 0.7\n",
    "\\r                   0x0d                    Carriage return\n",
    "\\s                   0x20                    Space\n",
    "\\t                   0x09                    Tab\n",
    "\\v                   0x0b                    Vertical tab\n",
    "\\x                                           Character x\n",
    "\\xnn                                         Hexadecimal notation, where n is in the range 0.9, a.f, or A.F"
   ]
  },
  {
   "cell_type": "code",
   "execution_count": null,
   "metadata": {},
   "outputs": [],
   "source": [
    "#Use a raw string to supress the meaning of escape characters\n",
    "\n",
    "print(r\"Hello \\n World\")"
   ]
  },
  {
   "cell_type": "markdown",
   "metadata": {},
   "source": [
    "### Built-in Methods"
   ]
  },
  {
   "cell_type": "code",
   "execution_count": null,
   "metadata": {},
   "outputs": [],
   "source": [
    "#Capitalization\n",
    "\n",
    "var4 = \"hello world\"\n",
    "\n",
    "print(var1.capitalize())"
   ]
  },
  {
   "cell_type": "code",
   "execution_count": null,
   "metadata": {},
   "outputs": [],
   "source": [
    "#Padding\n",
    "\n",
    "#To center a string\n",
    "\n",
    "var4.center(100, \" \")\n",
    "    #__________.center(______, ________________________)\n",
    "    #(variable)       (width)(character to use as fill)"
   ]
  },
  {
   "cell_type": "code",
   "execution_count": null,
   "metadata": {},
   "outputs": [],
   "source": [
    "#Counting\n",
    "#Counts strings or characters within a string or substring\n",
    "\n",
    "var4.count('l', 0, 4)\n",
    "    #__________.count('______', ____________________, _____________)\n",
    "    #(variable)       (string) (beginning of search)(end of search)"
   ]
  },
  {
   "cell_type": "markdown",
   "metadata": {},
   "source": [
    "# Functions"
   ]
  },
  {
   "cell_type": "markdown",
   "metadata": {},
   "source": [
    "A function is a block of code that performs a single action.\n",
    "\n",
    "Functions allow you to:\n",
    "- simplify your code via modularity\n",
    "- allow you to reuse blocks of code\n",
    "\n",
    "Functions \n",
    "- begin with the keyword def followed by the function name and ()\n",
    "    \n",
    "    `def function():`\n",
    "- contain parameters and arguments in the parentheses\n",
    "- the first statement of a function can be an optional statement- a docstring\n",
    "- the code block begins with a :\n",
    "- exit with a return statement, which may return expresions back to the caller\n",
    "    - Exiting a function without arguments in the return function is the same as returning 'None'\n",
    "\n",
    "A function is called by invoking it with the proper arguments"
   ]
  },
  {
   "cell_type": "markdown",
   "metadata": {},
   "source": [
    "#### Pass by reference\n",
    "\n",
    "Arguments in Python are passed by reference. If you change what a parameter refers to within a function, the change also reflects to the calling functions. \n",
    "\n",
    "In other words, assigning a value to a variable within a function will not overwrite the same variable outside the function. "
   ]
  },
  {
   "cell_type": "markdown",
   "metadata": {},
   "source": [
    "#### Global and Local Variables\n",
    "\n",
    "Variables defined *inside* a function have local scope.\n",
    "Variables defined *outside* a function have global scope.  "
   ]
  },
  {
   "cell_type": "markdown",
   "metadata": {},
   "source": [
    "### Types of Arguments\n",
    "#### Required Arguments\n",
    "\n",
    "Required arguments are passed in correct positional order. The number of arguments must match exactly with the function definition. \n",
    "\n",
    "#### Keyword arguments\n",
    "A keyword argument is identified by its parameter name. \n",
    "They can be ommited or used out of order. "
   ]
  },
  {
   "cell_type": "code",
   "execution_count": 16,
   "metadata": {},
   "outputs": [
    {
     "name": "stdout",
     "output_type": "stream",
     "text": [
      "I'm a keyword\n"
     ]
    }
   ],
   "source": [
    "def new_function(keyword):\n",
    "    print(keyword)\n",
    "    return\n",
    "    \n",
    "new_function(keyword=\"I'm a keyword\")"
   ]
  },
  {
   "cell_type": "markdown",
   "metadata": {},
   "source": [
    "#### Default arguments\n",
    "If no value is provided to the argument, it assumes a default value."
   ]
  },
  {
   "cell_type": "code",
   "execution_count": 15,
   "metadata": {},
   "outputs": [
    {
     "name": "stdout",
     "output_type": "stream",
     "text": [
      "Sarah 50\n"
     ]
    }
   ],
   "source": [
    "def new_function(name, age=50):\n",
    "    print(name, age)\n",
    "    return\n",
    "\n",
    "new_function('Sarah')"
   ]
  },
  {
   "cell_type": "markdown",
   "metadata": {},
   "source": [
    "#### Variable length arguments\n",
    "\n",
    "Variable length arguments are not named in the function definition\n",
    "\n",
    "Asterisks denote variable arguments. It holds the values of all non-keyword arguments."
   ]
  },
  {
   "cell_type": "code",
   "execution_count": 14,
   "metadata": {},
   "outputs": [],
   "source": [
    "def function(formal_args, *var_args_tuple):\n",
    "    \"docstring\"\n",
    "    print(\"something\")\n",
    "    return"
   ]
  },
  {
   "cell_type": "markdown",
   "metadata": {},
   "source": [
    "### Anonymous Functions\n",
    "\n",
    "Anonymous functions aren't declared via def. Instead, they are declared with the keyword *lambda*\n",
    "\n",
    "Anonymous functions:\n",
    "- can take any number of arguments\n",
    "- **return only one value in the form of an expression**\n",
    "- cannot take print calls\n",
    "- cannot access variables other than those in their parameter list and the global namespace\n",
    "\n",
    "**Format**\n",
    "\n",
    "`lambda [arg 1, arg2]: expression"
   ]
  },
  {
   "cell_type": "code",
   "execution_count": 13,
   "metadata": {},
   "outputs": [
    {
     "data": {
      "text/plain": [
       "3"
      ]
     },
     "execution_count": 13,
     "metadata": {},
     "output_type": "execute_result"
    }
   ],
   "source": [
    "l_sum = lambda arg1, arg2: arg1 + arg2\n",
    "l_sum(1, 2)"
   ]
  },
  {
   "cell_type": "markdown",
   "metadata": {},
   "source": [
    "# Decision Making\n",
    "\n",
    "Python assumes all non-zero and non-null values are TRUE. Zero and Null values are false.\n",
    "\n",
    "Decision-making in Python is done with three types of statements:\n",
    "- if statements\n",
    "- if/else statements\n",
    "- nested if statements\n",
    "\n",
    "*Note: Single statement suites can betwritten on a single line.*"
   ]
  },
  {
   "cell_type": "code",
   "execution_count": 36,
   "metadata": {},
   "outputs": [
    {
     "name": "stdout",
     "output_type": "stream",
     "text": [
      "Nah\n"
     ]
    }
   ],
   "source": [
    "#if statement\n",
    "if a == 1:\n",
    "    print(\"Yes\")\n",
    "    \n",
    "#if/else statement\n",
    "if a == 1:\n",
    "    print(\"Yes\")\n",
    "elif a == 2:\n",
    "    print(\"Cool\")\n",
    "else:\n",
    "    print(\"Nah\")\n",
    "        \n",
    "#nested if statement\n",
    "if a == 1:\n",
    "    if b == 2:\n",
    "        print('Double!')\n",
    "        \n",
    "#Single line suite\n",
    "c = 1\n",
    "if (c == 30) : print(\"This is true.\")"
   ]
  },
  {
   "cell_type": "markdown",
   "metadata": {},
   "source": [
    "# Loops \n",
    "\n",
    "Loops allow us to execute a statement multiple times\n",
    "\n",
    "Python allows for three types of loops:\n",
    "- while loop\n",
    "    - while loops repeat a statement while a condition is TRUE\n",
    "- for loop\n",
    "    - iterates over the items of any sequence\n",
    "- nested loops\n",
    "    - both for and while loops can be nested\n",
    "    "
   ]
  },
  {
   "cell_type": "markdown",
   "metadata": {},
   "source": [
    "### While Loops\n",
    "\n",
    "while loops repeat a statement while a condition is TRUE. When they become false, program control moves to the next line after the while block.\n",
    "  - while loops are often used when they're frequently expected to be false and will never run\n",
    "  - while loops can be infinite"
   ]
  },
  {
   "cell_type": "code",
   "execution_count": 11,
   "metadata": {},
   "outputs": [
    {
     "name": "stdout",
     "output_type": "stream",
     "text": [
      "Current counter:  1\n",
      "Current counter:  2\n",
      "Current counter:  3\n",
      "Current counter:  4\n",
      "Current counter:  5\n",
      "Current counter:  6\n",
      "Current counter:  7\n",
      "Current counter:  8\n",
      "Current counter:  9\n",
      "Current counter:  10\n"
     ]
    }
   ],
   "source": [
    "#while loop\n",
    "\n",
    "a = 0\n",
    "\n",
    "while a < 10:\n",
    "    a += 1\n",
    "    print(\"Current counter: \", a)\n",
    "    "
   ]
  },
  {
   "cell_type": "code",
   "execution_count": 12,
   "metadata": {},
   "outputs": [
    {
     "name": "stdout",
     "output_type": "stream",
     "text": [
      "Current counter:  9\n",
      "Current counter:  8\n",
      "Current counter:  7\n",
      "Current counter:  6\n",
      "Current counter:  5\n",
      "Current counter:  4\n",
      "Current counter:  3\n",
      "Current counter:  2\n",
      "Current counter:  1\n",
      "Current counter:  0\n",
      "Current counter:  -1\n",
      "Nope!\n"
     ]
    }
   ],
   "source": [
    "#while loop with else statement\n",
    "\n",
    "while a >= 0:\n",
    "    a -= 1\n",
    "    print(\"Current counter: \", a)\n",
    "else:\n",
    "    print(\"Nope!\")\n",
    "    "
   ]
  },
  {
   "cell_type": "code",
   "execution_count": null,
   "metadata": {},
   "outputs": [],
   "source": [
    "#infinite while loop\n",
    "\n",
    "a = 0\n",
    "while a == 0:\n",
    "    print(\"Okay!\")\n",
    " \n",
    "#Stopping an infinite while loop (in Jupyter) can be done by clicking on Kernel > Interrupt"
   ]
  },
  {
   "cell_type": "code",
   "execution_count": null,
   "metadata": {},
   "outputs": [],
   "source": [
    "#Single line while statement\n",
    "\n",
    "infinite = True \n",
    "while (infinite): print (\"This will run forever.\")"
   ]
  },
  {
   "cell_type": "markdown",
   "metadata": {},
   "source": [
    "### For Loops\n",
    "\n",
    "for loops iterate over the items of any sequence.\n",
    "\n",
    "` for iterating_var in sequence:\n",
    "      statement(s)`\n",
    "\n",
    "**Order of operations**\n",
    "\n",
    "1. If the *sequence* contains a list, it's evaluated first.\n",
    "2. The first item in the sequence is assigned as the *iterating_var.\n",
    "3. The *statement* block is executed.\n",
    "4. The second item is assigned to the *iterating_var.\n",
    "5. The *statement* block is executed.\n",
    "    \n",
    "    `...`\n",
    "    \n",
    "6. The last item is assigned to the *iterating_var\n",
    "7. The *statement* block is executed"
   ]
  },
  {
   "cell_type": "code",
   "execution_count": 6,
   "metadata": {},
   "outputs": [
    {
     "name": "stdout",
     "output_type": "stream",
     "text": [
      "t\n",
      "u\n",
      "t\n",
      "o\n",
      "r\n",
      "i\n",
      "a\n",
      "l\n"
     ]
    }
   ],
   "source": [
    "#Iterating over a string:\n",
    "\n",
    "for letter in \"tutorial\":\n",
    "    print(letter)"
   ]
  },
  {
   "cell_type": "code",
   "execution_count": 20,
   "metadata": {},
   "outputs": [
    {
     "name": "stdout",
     "output_type": "stream",
     "text": [
      "0\n",
      "1\n",
      "2\n",
      "3\n",
      "4\n",
      "5\n",
      "6\n",
      "7\n"
     ]
    }
   ],
   "source": [
    "#Iterating by sequence index\n",
    "#(Note that this returns the index of each letter in the sequence rather than the actual letter)\n",
    "\n",
    "for index in range(len(\"tutorial\")):\n",
    "    print(index)\n",
    "    "
   ]
  },
  {
   "cell_type": "code",
   "execution_count": 21,
   "metadata": {},
   "outputs": [
    {
     "name": "stdout",
     "output_type": "stream",
     "text": [
      "1\n",
      "3\n",
      "5\n",
      "7\n",
      "9\n"
     ]
    }
   ],
   "source": [
    "#Iterating over a range:\n",
    "\n",
    "for number in range(1, 10, 2):\n",
    "    print(number)"
   ]
  },
  {
   "cell_type": "code",
   "execution_count": null,
   "metadata": {},
   "outputs": [],
   "source": [
    "#else statements in for loops\n",
    "\n",
    "for number in range(1, 20):\n",
    "    print(number)\n",
    "    else:\n",
    "        print(\"Not in the sequence.\")"
   ]
  },
  {
   "cell_type": "code",
   "execution_count": 10,
   "metadata": {},
   "outputs": [
    {
     "name": "stdout",
     "output_type": "stream",
     "text": [
      "b\n",
      "i\n",
      "r\n",
      "d\n",
      "f\n",
      "o\n",
      "x\n",
      "d\n",
      "o\n",
      "g\n"
     ]
    }
   ],
   "source": [
    "#nested loops\n",
    "\n",
    "for word in ['bird', 'fox', 'dog']:\n",
    "    for letter in word:\n",
    "        print(letter)\n",
    "        \n",
    "#while loops can also be nested\n",
    "#(this will not run because it's an infinite loop)\n",
    "while a == 1:\n",
    "    for word in ['bird', 'fox', 'dog']:\n",
    "        for letter in word:\n",
    "            print(letter)"
   ]
  },
  {
   "cell_type": "markdown",
   "metadata": {},
   "source": [
    "### Control statements\n",
    "\n",
    "Control statements alter the execution from normal sequence.\n",
    "\n",
    "Control statements in Python are:\n",
    "- break\n",
    "    - terminates loop statement\n",
    "- continue\n",
    "    - loop skips the remainder of its body and retests its condition before reiterating\n",
    "- pass\n",
    "    - used when a statement is required, but no code should execute"
   ]
  },
  {
   "cell_type": "code",
   "execution_count": 26,
   "metadata": {},
   "outputs": [
    {
     "name": "stdout",
     "output_type": "stream",
     "text": [
      "t\n",
      "u\n",
      "t\n"
     ]
    }
   ],
   "source": [
    "#break statement:\n",
    "\n",
    "for letter in 'tutorial':\n",
    "    if letter == 'o':\n",
    "        break\n",
    "    print(letter)"
   ]
  },
  {
   "cell_type": "code",
   "execution_count": 27,
   "metadata": {},
   "outputs": [
    {
     "name": "stdout",
     "output_type": "stream",
     "text": [
      "b\n",
      "i\n",
      "r\n",
      "d\n",
      "f\n",
      "d\n"
     ]
    }
   ],
   "source": [
    "#In nested loops, break statements break only the innermost loop:\n",
    "for word in ['bird', 'fox', 'dog']:\n",
    "    for letter in word:\n",
    "        if letter == 'o':\n",
    "            break\n",
    "        print(letter)"
   ]
  },
  {
   "cell_type": "code",
   "execution_count": 30,
   "metadata": {},
   "outputs": [
    {
     "name": "stdout",
     "output_type": "stream",
     "text": [
      "t\n",
      "u\n",
      "t\n",
      "r\n",
      "i\n",
      "a\n",
      "l\n"
     ]
    }
   ],
   "source": [
    "#Continue statement\n",
    "\n",
    "for letter in \"tutorial\":\n",
    "    if letter == 'o':\n",
    "        continue\n",
    "    print(letter)\n",
    "    \n",
    "#in the example above, O doesn't print because the continue statement essentially \"skips\" it but doesn't break the loop"
   ]
  },
  {
   "cell_type": "code",
   "execution_count": 31,
   "metadata": {},
   "outputs": [
    {
     "name": "stdout",
     "output_type": "stream",
     "text": [
      "t\n",
      "u\n",
      "t\n",
      "PASS!\n",
      "o\n",
      "r\n",
      "i\n",
      "a\n",
      "l\n"
     ]
    }
   ],
   "source": [
    "#Pass statement\n",
    "#(Nothing happens when pass statements are executed. Sometimes they are used as placeholders for where other code will go.)\n",
    "\n",
    "for letter in \"tutorial\":\n",
    "    if letter == 'o':\n",
    "        pass\n",
    "        print(\"PASS!\")\n",
    "    print(letter)"
   ]
  },
  {
   "cell_type": "code",
   "execution_count": null,
   "metadata": {},
   "outputs": [],
   "source": []
  }
 ],
 "metadata": {
  "kernelspec": {
   "display_name": "Python 3",
   "language": "python",
   "name": "python3"
  },
  "language_info": {
   "codemirror_mode": {
    "name": "ipython",
    "version": 3
   },
   "file_extension": ".py",
   "mimetype": "text/x-python",
   "name": "python",
   "nbconvert_exporter": "python",
   "pygments_lexer": "ipython3",
   "version": "3.7.3"
  }
 },
 "nbformat": 4,
 "nbformat_minor": 2
}
