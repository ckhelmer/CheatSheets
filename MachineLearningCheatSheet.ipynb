{
 "cells": [
  {
   "cell_type": "code",
   "execution_count": null,
   "metadata": {},
   "outputs": [],
   "source": [
    "#Linear Regression\n",
    "\n",
    "#Import sklearn module\n",
    "from sklearn.linear_model import LinearRegression\n",
    "\n",
    "#Set a model to hold the linear regression object\n",
    "model = LinearRegression()\n",
    "    #_________ = LinearRegression\n",
    "    \n",
    "#Fit the model to your data\n",
    "model.fit(X, y)\n",
    "    #___________.fit(__________, __________)\n",
    "    #(variable)      (x data)     (y data)\n",
    "    #              (independent) (dependent)\n",
    "    \n",
    "#To view the coefficents and intercepts\n",
    "model.coef_\n",
    "    #__________.coef_\n",
    "model.intercept_\n",
    "    #__________.intercept_\n",
    "    \n",
    "#To make predictions\n",
    "predictions = model.predict(X)\n",
    "    #_____________ = model.predict(___________)\n",
    "    #(variable for list)           (independent (x) variable)\n",
    "\n",
    "    \n",
    "#To find predicted mins and maxes\n",
    "x_min = X.min()\n",
    "x_max = X.max()\n",
    "    #__________ = X.max()\n",
    "    #(variable)      \n",
    "\n",
    "y_min_actual = y.min()\n",
    "y_max_actual = y.max()\n",
    "\n",
    "y_min_predicted = model.predict(x_min)\n",
    "y_max_predicted = model.predict(x_max)\n",
    "    #_______________ = model.predict(x_min)\n",
    "    #(variable)                   (or value)\n",
    "    "
   ]
  },
  {
   "cell_type": "code",
   "execution_count": null,
   "metadata": {},
   "outputs": [],
   "source": [
    "#Multivariate linear regression\n",
    "\n",
    "#Import module from sklearn (uses Ordinary Least Squares method)\n",
    "from sklearn.linear_model import LinearRegression\n",
    "\n",
    "#create a variable to hold the class\n",
    "model.fit(X, y)"
   ]
  },
  {
   "cell_type": "code",
   "execution_count": null,
   "metadata": {},
   "outputs": [],
   "source": [
    "#Lasso model\n",
    "from sklearn.linear_model import Lasso\n",
    "\n",
    "lasso = lasso(alpha=.01).fit(X_train_scaled, y_train_scaled)\n",
    "\n",
    "predictions = lasso.predict(X_test_scaled)\n",
    "\n",
    "predictions.score(X_test_scaled, y_test_scaled)"
   ]
  },
  {
   "cell_type": "code",
   "execution_count": null,
   "metadata": {},
   "outputs": [],
   "source": [
    "#Ridge model\n",
    "from sklearn.linear_model import Ridge\n",
    "\n",
    "ridge = Ridge(alpha = .01).fit(X_train_scaled, y_train_scaled)\n",
    "\n",
    "predictions = ridge.predict(X_test_scaled)\n",
    "\n",
    "predictions.score(X_test_scaled, y_test_scaled)"
   ]
  },
  {
   "cell_type": "code",
   "execution_count": null,
   "metadata": {},
   "outputs": [],
   "source": [
    "#ElasticNet model\n",
    "from sklearn.linear_model import ElasticNet\n",
    "\n",
    "elasticnet = ElasticNet(alpha=.01).fit(X_train_scaled, y_train_scaled)\n",
    "\n",
    "predictions = elasticnet.predict(X_test_scaled)\n",
    "\n",
    "predictions.score(X_test_scaled, y_test_scaled)"
   ]
  },
  {
   "cell_type": "code",
   "execution_count": null,
   "metadata": {},
   "outputs": [],
   "source": [
    "#Splitting data into training and testing data\n",
    "\n",
    "#Import module from sklearn\n",
    "from sklearn.model_selection import train_test_split\n",
    "\n",
    "#Just use these variables, they're a standard\n",
    "X_train, X_test, y_train, y_test = train_test_split(X, y, random_state = 42)\n",
    "\n",
    "#Fit model to training data\n",
    "model.fit(X_train, y_train)\n",
    "\n",
    "#Score model with testing data\n",
    "model.score(X_test, y_test)"
   ]
  },
  {
   "cell_type": "code",
   "execution_count": null,
   "metadata": {},
   "outputs": [],
   "source": [
    "#Measuring models\n",
    "\n",
    "#Import module from sklearn\n",
    "from sklearn.metrics import mean_squared_error, r2_score\n",
    "\n",
    "#Predict a value (as above)\n",
    "predicted = model.predict(X)\n",
    "\n",
    "#Calculate mean squared error\n",
    "mse = mean_squared_error(y, predicted)\n",
    "    #___________ = mean_squared_error(y, __________)\\\n",
    "    #(variable)                          (predicted value)\n",
    "\n",
    "#Calculate r-squared\n",
    "r2 = r2_score(y, predicted)\n",
    "    #_________ = r2_score(y, ___________)\n",
    "    #(variable)             (predicted value)\n",
    "    \n",
    "#Or use .score, which returns r squared as a default\n",
    "model.score(X, y)\n",
    "    #________________.score(X, y)\n",
    "    #(model variable)\n",
    "        "
   ]
  },
  {
   "cell_type": "code",
   "execution_count": null,
   "metadata": {},
   "outputs": [],
   "source": [
    "#Plotting residuals to visualize the accuracy of a prediction\n",
    "#Residuals are the difference betweent the true value of y and the predicted values of y\n",
    "import matplotlib.pyplot as plt\n",
    "\n",
    "predicted = model.predict(X)\n",
    "\n",
    "plt.scatter(predicted, predicted - y)\n",
    "plt.hlines(y=0, xmin=predicted.min(), xmax=predicted.max())\n",
    "plt.show()"
   ]
  },
  {
   "cell_type": "code",
   "execution_count": null,
   "metadata": {},
   "outputs": [],
   "source": [
    "#Data preprocessing\n",
    "\n",
    "#Binary encoding w/ pandas\n",
    "\n",
    "#With existing pd.read_csv('file') or whatever\n",
    "\n",
    "X = df[['Input Column 1', 'input Column 2', 'Input Column 3']]\n",
    "y = df[['Output Column']].values.reshape(-1, 1)\n",
    "\n",
    "#Transform to binary with pandas\n",
    "data = X.copy()\n",
    "\n",
    "data_binary_encoded = pd.get_dummies(data, columns = ['Column to be encoded'])\n",
    "#If you leave out the columns argument, it will encode anything it thinks you want it to encode"
   ]
  },
  {
   "cell_type": "code",
   "execution_count": null,
   "metadata": {},
   "outputs": [],
   "source": [
    "#Scaling/Normalization\n",
    "\n",
    "#Use 'Standard Scaler' when you fit your model\n",
    "from sklearn.preprocessing import StandardScaler\n",
    "\n",
    "X_scaler = StandardScaler().fit(X_train)\n",
    "y_scaler = StandardScaler().fit(y_train)\n",
    "\n",
    "X_train_scaled = X_scaler.transform(X_train)\n",
    "X_test_scaled = X_scaler.transform(X_test)\n",
    "y_train_scaled = y_scaler.transform(y_train)\n",
    "y_test_scaled = y_scaler.transform(y_test)"
   ]
  }
 ],
 "metadata": {
  "kernelspec": {
   "display_name": "Python 3",
   "language": "python",
   "name": "python3"
  },
  "language_info": {
   "codemirror_mode": {
    "name": "ipython",
    "version": 3
   },
   "file_extension": ".py",
   "mimetype": "text/x-python",
   "name": "python",
   "nbconvert_exporter": "python",
   "pygments_lexer": "ipython3",
   "version": "3.7.3"
  }
 },
 "nbformat": 4,
 "nbformat_minor": 2
}
