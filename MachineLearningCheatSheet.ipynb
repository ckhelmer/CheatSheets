{
 "cells": [
  {
   "cell_type": "code",
   "execution_count": null,
   "metadata": {},
   "outputs": [],
   "source": [
    "#Linear Regression\n",
    "\n",
    "#Import sklearn module\n",
    "from sklearn.linear_model import LinearRegression\n",
    "\n",
    "#Set a model to hold the linear regression object\n",
    "model = LinearRegression()\n",
    "    #_________ = LinearRegression\n",
    "    \n",
    "#Fit the model to your data\n",
    "model.fit(X, y)\n",
    "    #___________.fit(__________, __________)\n",
    "    #(variable)      (x data)     (y data)\n",
    "    #              (independent) (dependent)\n",
    "    \n",
    "#To view the coefficents and intercepts\n",
    "model.coef_\n",
    "    #__________.coef_\n",
    "model.intercept_\n",
    "    #__________.intercept_\n",
    "    \n",
    "#To make predictions\n",
    "predictions = model.predict(X)\n",
    "    #_____________ = model.predict(___________)\n",
    "    #(variable for list)           (independent (x) variable)\n",
    "\n",
    "    \n",
    "#To find predicted mins and maxes\n",
    "x_min = X.min()\n",
    "x_max = X.max()\n",
    "    #__________ = X.max()\n",
    "    #(variable)      \n",
    "\n",
    "y_min_actual = y.min()\n",
    "y_max_actual = y.max()\n",
    "\n",
    "y_min_predicted = model.predict(x_min)\n",
    "y_max_predicted = model.predict(x_max)\n",
    "    #_______________ = model.predict(x_min)\n",
    "    #(variable)                   (or value)\n",
    "    "
   ]
  },
  {
   "cell_type": "code",
   "execution_count": null,
   "metadata": {},
   "outputs": [],
   "source": [
    "#Multivariate linear regression\n",
    "\n",
    "#Import module from sklearn (uses Ordinary Least Squares method)\n",
    "from sklearn.linear_model import LinearRegression\n",
    "\n",
    "#create a variable to hold the class\n",
    "model.fit(X, y)"
   ]
  },
  {
   "cell_type": "code",
   "execution_count": null,
   "metadata": {},
   "outputs": [],
   "source": [
    "#Measuring models\n",
    "\n",
    "#Import module from sklearn\n",
    "from sklearn.metrics import mean_squared_error, r2_score\n",
    "\n",
    "#Predict a value (as above)\n",
    "predicted = model.predict(X)\n",
    "\n",
    "#Calculate mean squared error\n",
    "mse = mean_squared_error(y, predicted)\n",
    "    #___________ = mean_squared_error(y, __________)\\\n",
    "    #(variable)                          (predicted value)\n",
    "\n",
    "#Calculate r-squared\n",
    "r2 = r2_score(y, predicted)\n",
    "    #_________ = r2_score(y, ___________)\n",
    "    #(variable)             (predicted value)\n",
    "    \n",
    "#Or use .score, which returns r squared as a default\n",
    "model.score(X, y)\n",
    "    #________________.score(X, y)\n",
    "    #(model variable)\n",
    "        "
   ]
  },
  {
   "cell_type": "code",
   "execution_count": null,
   "metadata": {},
   "outputs": [],
   "source": [
    "#Splitting data into training and testing data\n",
    "\n",
    "#Import module from sklearn\n",
    "from sklearn.model_selection import train_test_split\n",
    "\n",
    "#Just use these variables, they're a standard\n",
    "X_train, X_test, y_train, y_test = train_test_split(X, y, random_state = 42)\n",
    "\n",
    "#Fit model to training data\n",
    "model.fit(X_train, y_train)\n",
    "\n",
    "#Score model with testing data\n",
    "model.score(X_test, y_test)"
   ]
  }
 ],
 "metadata": {
  "kernelspec": {
   "display_name": "Python 3",
   "language": "python",
   "name": "python3"
  },
  "language_info": {
   "codemirror_mode": {
    "name": "ipython",
    "version": 3
   },
   "file_extension": ".py",
   "mimetype": "text/x-python",
   "name": "python",
   "nbconvert_exporter": "python",
   "pygments_lexer": "ipython3",
   "version": "3.7.3"
  }
 },
 "nbformat": 4,
 "nbformat_minor": 2
}
